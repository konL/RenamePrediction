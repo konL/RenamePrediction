{
 "cells": [
  {
   "cell_type": "code",
   "execution_count": 2,
   "metadata": {},
   "outputs": [
    {
     "data": {
      "text/html": [
       "<div>\n",
       "<style scoped>\n",
       "    .dataframe tbody tr th:only-of-type {\n",
       "        vertical-align: middle;\n",
       "    }\n",
       "\n",
       "    .dataframe tbody tr th {\n",
       "        vertical-align: top;\n",
       "    }\n",
       "\n",
       "    .dataframe thead th {\n",
       "        text-align: right;\n",
       "    }\n",
       "</style>\n",
       "<table border=\"1\" class=\"dataframe\">\n",
       "  <thead>\n",
       "    <tr style=\"text-align: right;\">\n",
       "      <th></th>\n",
       "      <th>0</th>\n",
       "      <th>1</th>\n",
       "      <th>2</th>\n",
       "      <th>3</th>\n",
       "      <th>4</th>\n",
       "      <th>5</th>\n",
       "      <th>6</th>\n",
       "      <th>7</th>\n",
       "      <th>8</th>\n",
       "      <th>9</th>\n",
       "      <th>...</th>\n",
       "      <th>11</th>\n",
       "      <th>12</th>\n",
       "      <th>13</th>\n",
       "      <th>14</th>\n",
       "      <th>15</th>\n",
       "      <th>16</th>\n",
       "      <th>17</th>\n",
       "      <th>18</th>\n",
       "      <th>19</th>\n",
       "      <th>20</th>\n",
       "    </tr>\n",
       "  </thead>\n",
       "  <tbody>\n",
       "    <tr>\n",
       "      <th>0</th>\n",
       "      <td>66</td>\n",
       "      <td>9</td>\n",
       "      <td>1</td>\n",
       "      <td>1</td>\n",
       "      <td>1</td>\n",
       "      <td>1</td>\n",
       "      <td>0</td>\n",
       "      <td>0</td>\n",
       "      <td>0</td>\n",
       "      <td>1</td>\n",
       "      <td>...</td>\n",
       "      <td>0</td>\n",
       "      <td>0</td>\n",
       "      <td>0</td>\n",
       "      <td>0</td>\n",
       "      <td>0</td>\n",
       "      <td>0</td>\n",
       "      <td>0</td>\n",
       "      <td>0</td>\n",
       "      <td>0.888889</td>\n",
       "      <td>0</td>\n",
       "    </tr>\n",
       "    <tr>\n",
       "      <th>1</th>\n",
       "      <td>48</td>\n",
       "      <td>6</td>\n",
       "      <td>1</td>\n",
       "      <td>1</td>\n",
       "      <td>0</td>\n",
       "      <td>1</td>\n",
       "      <td>0</td>\n",
       "      <td>0</td>\n",
       "      <td>0</td>\n",
       "      <td>1</td>\n",
       "      <td>...</td>\n",
       "      <td>0</td>\n",
       "      <td>0</td>\n",
       "      <td>0</td>\n",
       "      <td>0</td>\n",
       "      <td>0</td>\n",
       "      <td>0</td>\n",
       "      <td>0</td>\n",
       "      <td>0</td>\n",
       "      <td>1.000000</td>\n",
       "      <td>0</td>\n",
       "    </tr>\n",
       "    <tr>\n",
       "      <th>2</th>\n",
       "      <td>29</td>\n",
       "      <td>4</td>\n",
       "      <td>1</td>\n",
       "      <td>1</td>\n",
       "      <td>0</td>\n",
       "      <td>1</td>\n",
       "      <td>0</td>\n",
       "      <td>0</td>\n",
       "      <td>0</td>\n",
       "      <td>1</td>\n",
       "      <td>...</td>\n",
       "      <td>0</td>\n",
       "      <td>0</td>\n",
       "      <td>0</td>\n",
       "      <td>0</td>\n",
       "      <td>0</td>\n",
       "      <td>0</td>\n",
       "      <td>0</td>\n",
       "      <td>0</td>\n",
       "      <td>1.000000</td>\n",
       "      <td>0</td>\n",
       "    </tr>\n",
       "    <tr>\n",
       "      <th>3</th>\n",
       "      <td>4</td>\n",
       "      <td>1</td>\n",
       "      <td>1</td>\n",
       "      <td>0</td>\n",
       "      <td>0</td>\n",
       "      <td>0</td>\n",
       "      <td>0</td>\n",
       "      <td>1</td>\n",
       "      <td>0</td>\n",
       "      <td>1</td>\n",
       "      <td>...</td>\n",
       "      <td>0</td>\n",
       "      <td>0</td>\n",
       "      <td>0</td>\n",
       "      <td>0</td>\n",
       "      <td>0</td>\n",
       "      <td>0</td>\n",
       "      <td>0</td>\n",
       "      <td>0</td>\n",
       "      <td>1.000000</td>\n",
       "      <td>0</td>\n",
       "    </tr>\n",
       "    <tr>\n",
       "      <th>4</th>\n",
       "      <td>10</td>\n",
       "      <td>2</td>\n",
       "      <td>1</td>\n",
       "      <td>1</td>\n",
       "      <td>0</td>\n",
       "      <td>0</td>\n",
       "      <td>1</td>\n",
       "      <td>0</td>\n",
       "      <td>0</td>\n",
       "      <td>1</td>\n",
       "      <td>...</td>\n",
       "      <td>0</td>\n",
       "      <td>0</td>\n",
       "      <td>0</td>\n",
       "      <td>1</td>\n",
       "      <td>0</td>\n",
       "      <td>0</td>\n",
       "      <td>0</td>\n",
       "      <td>0</td>\n",
       "      <td>1.000000</td>\n",
       "      <td>1</td>\n",
       "    </tr>\n",
       "  </tbody>\n",
       "</table>\n",
       "<p>5 rows × 21 columns</p>\n",
       "</div>"
      ],
      "text/plain": [
       "   0   1   2   3   4   5   6   7   8   9   ...  11  12  13  14  15  16  17  \\\n",
       "0  66   9   1   1   1   1   0   0   0   1  ...   0   0   0   0   0   0   0   \n",
       "1  48   6   1   1   0   1   0   0   0   1  ...   0   0   0   0   0   0   0   \n",
       "2  29   4   1   1   0   1   0   0   0   1  ...   0   0   0   0   0   0   0   \n",
       "3   4   1   1   0   0   0   0   1   0   1  ...   0   0   0   0   0   0   0   \n",
       "4  10   2   1   1   0   0   1   0   0   1  ...   0   0   0   1   0   0   0   \n",
       "\n",
       "   18        19  20  \n",
       "0   0  0.888889   0  \n",
       "1   0  1.000000   0  \n",
       "2   0  1.000000   0  \n",
       "3   0  1.000000   0  \n",
       "4   0  1.000000   1  \n",
       "\n",
       "[5 rows x 21 columns]"
      ]
     },
     "execution_count": 2,
     "metadata": {},
     "output_type": "execute_result"
    }
   ],
   "source": [
    "import numpy as np\n",
    "import pandas as pd\n",
    "train = pd.read_csv(\"C:\\\\project\\\\IdentifierStyle\\\\data\\\\VersionDB\\\\prepocessed_data\\\\numericData\\\\dubbo_train_G1.csv\",header=None)\n",
    "\n",
    "train.head()\n"
   ]
  },
  {
   "cell_type": "code",
   "execution_count": 3,
   "metadata": {},
   "outputs": [
    {
     "name": "stdout",
     "output_type": "stream",
     "text": [
      "<class 'pandas.core.frame.DataFrame'>\n",
      "RangeIndex: 158824 entries, 0 to 158823\n",
      "Data columns (total 21 columns):\n",
      "0     158824 non-null int64\n",
      "1     158824 non-null int64\n",
      "2     158824 non-null int64\n",
      "3     158824 non-null int64\n",
      "4     158824 non-null int64\n",
      "5     158824 non-null int64\n",
      "6     158824 non-null int64\n",
      "7     158824 non-null int64\n",
      "8     158824 non-null int64\n",
      "9     158824 non-null int64\n",
      "10    158824 non-null int64\n",
      "11    158824 non-null int64\n",
      "12    158824 non-null int64\n",
      "13    158824 non-null int64\n",
      "14    158824 non-null int64\n",
      "15    158824 non-null int64\n",
      "16    158824 non-null int64\n",
      "17    158824 non-null int64\n",
      "18    158824 non-null int64\n",
      "19    158824 non-null float64\n",
      "20    158824 non-null int64\n",
      "dtypes: float64(1), int64(20)\n",
      "memory usage: 25.4 MB\n"
     ]
    }
   ],
   "source": [
    "train.info()#没有空值"
   ]
  },
  {
   "cell_type": "code",
   "execution_count": 9,
   "metadata": {},
   "outputs": [
    {
     "data": {
      "text/plain": [
       "1    98077\n",
       "0    60747\n",
       "Name: 6, dtype: int64"
      ]
     },
     "execution_count": 9,
     "metadata": {},
     "output_type": "execute_result"
    }
   ],
   "source": [
    "#数据初步分析\n",
    "train[6].value_counts()"
   ]
  },
  {
   "cell_type": "code",
   "execution_count": 26,
   "metadata": {},
   "outputs": [
    {
     "data": {
      "text/plain": [
       "<AxesSubplot:xlabel='8', ylabel='20'>"
      ]
     },
     "execution_count": 26,
     "metadata": {},
     "output_type": "execute_result"
    },
    {
     "data": {
      "image/png": "[encoded data removed]",
      "text/plain": [
       "<Figure size 432x288 with 1 Axes>"
      ]
     },
     "metadata": {
      "needs_background": "light"
     },
     "output_type": "display_data"
    }
   ],
   "source": [
    "# charlength+\",\"+termlength+\",\"+verb+\",\"+noun+\",\"+adj+\",\"+styleDis+\",\n",
    "# \"+contain$+\",\"+visibility+\",\"+startUpper+\",\"+uppercount+\",\"+digitcount+\",\n",
    "# \"+startOrEnd_+\",\"+consecutive_+\",\"+caseConsective+\",\"+commonPercentage+\",\"+label);\n",
    "import matplotlib.pyplot as plt\n",
    "import seaborn as sns\n",
    "import warnings\n",
    "warnings.filterwarnings('ignore')\n",
    "#barplot代表首先根据x区分不同的组，然后计算不同的组中的y的平均值画出来\n",
    "#是否包含 $ (代表临时变量？) contain$\n",
    "sns.barplot(x=8, y=20, data=train)"
   ]
  },
  {
   "cell_type": "code",
   "execution_count": 8,
   "metadata": {},
   "outputs": [
    {
     "data": {
      "text/plain": [
       "<AxesSubplot:xlabel='11', ylabel='20'>"
      ]
     },
     "execution_count": 8,
     "metadata": {},
     "output_type": "execute_result"
    },
    {
     "data": {
      "image/png": "[encoded data removed]",
      "text/plain": [
       "<Figure size 432x288 with 1 Axes>"
      ]
     },
     "metadata": {
      "needs_background": "light"
     },
     "output_type": "display_data"
    }
   ],
   "source": [
    "#.startsWith(\"_\")或者结束，也代表临时？ startOrEnd_\n",
    "sns.barplot(x=11, y=20, data=train)"
   ]
  },
  {
   "cell_type": "code",
   "execution_count": 14,
   "metadata": {},
   "outputs": [
    {
     "data": {
      "text/plain": [
       "<AxesSubplot:xlabel='1', ylabel='20'>"
      ]
     },
     "execution_count": 14,
     "metadata": {},
     "output_type": "execute_result"
    },
    {
     "data": {
      "image/png": "[encoded data removed]",
      "text/plain": [
       "<Figure size 432x288 with 1 Axes>"
      ]
     },
     "metadata": {
      "needs_background": "light"
     },
     "output_type": "display_data"
    }
   ],
   "source": [
    "#term length 总之是越长的标识符越有可能重命名\n",
    "sns.barplot(x=1, y=20, data=train)"
   ]
  },
  {
   "cell_type": "code",
   "execution_count": 15,
   "metadata": {},
   "outputs": [
    {
     "data": {
      "text/plain": [
       "<AxesSubplot:xlabel='0', ylabel='20'>"
      ]
     },
     "execution_count": 15,
     "metadata": {},
     "output_type": "execute_result"
    },
    {
     "data": {
      "image/png": "[encoded data removed]",
      "text/plain": [
       "<Figure size 432x288 with 1 Axes>"
      ]
     },
     "metadata": {
      "needs_background": "light"
     },
     "output_type": "display_data"
    }
   ],
   "source": [
    "# charlength+\",\"+termlength+\",\"+verb+\",\"+noun+\",\"+adj+\",\"+styleDis+\",\n",
    "# \"+contain$+\",\"+visibility+\",\"+startUpper+\",\"+uppercount+\",\"+digitcount+\",\n",
    "# \"+startOrEnd_+\",\"+consecutive_+\",\"+caseConsective+\",\"+commonPercentage+\",\"+label);\n",
    "\n",
    "#charLength\n",
    "sns.barplot(x=0, y=20, data=train)"
   ]
  },
  {
   "cell_type": "code",
   "execution_count": 16,
   "metadata": {},
   "outputs": [
    {
     "data": {
      "text/plain": [
       "<AxesSubplot:xlabel='2', ylabel='20'>"
      ]
     },
     "execution_count": 16,
     "metadata": {},
     "output_type": "execute_result"
    },
    {
     "data": {
      "image/png": "[encoded data removed]",
      "text/plain": [
       "<Figure size 432x288 with 1 Axes>"
      ]
     },
     "metadata": {
      "needs_background": "light"
     },
     "output_type": "display_data"
    }
   ],
   "source": [
    "#verb+\",\"+noun+\",\"+adj 即标识符分词后的术语中是否包含这三类词性的术语\n",
    "#不包含动词的标识符中重命名次数更低\n",
    "sns.barplot(x=2, y=20, data=train)"
   ]
  },
  {
   "cell_type": "code",
   "execution_count": 17,
   "metadata": {},
   "outputs": [
    {
     "data": {
      "text/plain": [
       "<AxesSubplot:xlabel='3', ylabel='20'>"
      ]
     },
     "execution_count": 17,
     "metadata": {},
     "output_type": "execute_result"
    },
    {
     "data": {
      "image/png": "[encoded data removed]",
      "text/plain": [
       "<Figure size 432x288 with 1 Axes>"
      ]
     },
     "metadata": {
      "needs_background": "light"
     },
     "output_type": "display_data"
    }
   ],
   "source": [
    "sns.barplot(x=3, y=20, data=train)"
   ]
  },
  {
   "cell_type": "code",
   "execution_count": 18,
   "metadata": {},
   "outputs": [
    {
     "data": {
      "text/plain": [
       "<AxesSubplot:xlabel='4', ylabel='20'>"
      ]
     },
     "execution_count": 18,
     "metadata": {},
     "output_type": "execute_result"
    },
    {
     "data": {
      "image/png": "[encoded data removed]",
      "text/plain": [
       "<Figure size 432x288 with 1 Axes>"
      ]
     },
     "metadata": {
      "needs_background": "light"
     },
     "output_type": "display_data"
    }
   ],
   "source": [
    "sns.barplot(x=4, y=20, data=train)"
   ]
  },
  {
   "cell_type": "code",
   "execution_count": 24,
   "metadata": {},
   "outputs": [
    {
     "data": {
      "text/plain": [
       "<AxesSubplot:xlabel='5', ylabel='20'>"
      ]
     },
     "execution_count": 24,
     "metadata": {},
     "output_type": "execute_result"
    },
    {
     "data": {
      "image/png": "[encoded data removed]",
      "text/plain": [
       "<Figure size 432x288 with 1 Axes>"
      ]
     },
     "metadata": {
      "needs_background": "light"
     },
     "output_type": "display_data"
    }
   ],
   "source": [
    "# charlength+\",\"+termlength+\",\"+verb+\",\"+noun+\",\"+adj+\",\"+styleDis+\",\n",
    "# \"+contain$+\",\"+visibility+\",\"+startUpper+\",\"+uppercount+\",\"+digitcount+\",\n",
    "# \"+startOrEnd_+\",\"+consecutive_+\",\"+caseConsective+\",\"+commonPercentage+\",\"+label);\n",
    "\n",
    "#charLength\n",
    "sns.barplot(x=5, y=20, data=train)"
   ]
  },
  {
   "cell_type": "code",
   "execution_count": 23,
   "metadata": {},
   "outputs": [
    {
     "data": {
      "text/plain": [
       "<AxesSubplot:xlabel='6', ylabel='20'>"
      ]
     },
     "execution_count": 23,
     "metadata": {},
     "output_type": "execute_result"
    },
    {
     "data": {
      "image/png": "[encoded data removed]",
      "text/plain": [
       "<Figure size 432x288 with 1 Axes>"
      ]
     },
     "metadata": {
      "needs_background": "light"
     },
     "output_type": "display_data"
    }
   ],
   "source": [
    "# charlength+\",\"+termlength+\",\"+verb+\",\"+noun+\",\"+adj+\",\"+styleDis+\",\n",
    "# \"+contain$+\",\"+visibility+\",\"+startUpper+\",\"+uppercount+\",\"+digitcount+\",\n",
    "# \"+startOrEnd_+\",\"+consecutive_+\",\"+caseConsective+\",\"+commonPercentage+\",\"+label);\n",
    "\n",
    "#charLength\n",
    "sns.barplot(x=6, y=20, data=train)"
   ]
  },
  {
   "cell_type": "code",
   "execution_count": 25,
   "metadata": {},
   "outputs": [
    {
     "data": {
      "text/plain": [
       "<AxesSubplot:xlabel='7', ylabel='20'>"
      ]
     },
     "execution_count": 25,
     "metadata": {},
     "output_type": "execute_result"
    },
    {
     "data": {
      "image/png": "[encoded data removed]",
      "text/plain": [
       "<Figure size 432x288 with 1 Axes>"
      ]
     },
     "metadata": {
      "needs_background": "light"
     },
     "output_type": "display_data"
    }
   ],
   "source": [
    "# charlength+\",\"+termlength+\",\"+verb+\",\"+noun+\",\"+adj+\",\"+styleDis+\",\n",
    "# \"+contain$+\",\"+visibility+\",\"+startUpper+\",\"+uppercount+\",\"+digitcount+\",\n",
    "# \"+startOrEnd_+\",\"+consecutive_+\",\"+caseConsective+\",\"+commonPercentage+\",\"+label);\n",
    "\n",
    "#charLength\n",
    "sns.barplot(x=7, y=20, data=train)"
   ]
  },
  {
   "cell_type": "code",
   "execution_count": 27,
   "metadata": {},
   "outputs": [
    {
     "data": {
      "text/plain": [
       "<AxesSubplot:xlabel='9', ylabel='20'>"
      ]
     },
     "execution_count": 27,
     "metadata": {},
     "output_type": "execute_result"
    },
    {
     "data": {
      "image/png": "[encoded data removed]",
      "text/plain": [
       "<Figure size 432x288 with 1 Axes>"
      ]
     },
     "metadata": {
      "needs_background": "light"
     },
     "output_type": "display_data"
    }
   ],
   "source": [
    "# charlength+\",\"+termlength+\",\"+verb+\",\"+noun+\",\"+adj+\",\"+styleDis+\",\n",
    "# \"+contain$+\",\"+visibility+\",\"+startUpper+\",\"+uppercount+\",\"+digitcount+\",\n",
    "# \"+startOrEnd_+\",\"+consecutive_+\",\"+caseConsective+\",\"+commonPercentage+\",\"+label);\n",
    "\n",
    "#publi\n",
    "sns.barplot(x=9, y=20, data=train)"
   ]
  },
  {
   "cell_type": "code",
   "execution_count": 28,
   "metadata": {},
   "outputs": [
    {
     "data": {
      "text/plain": [
       "<AxesSubplot:xlabel='10', ylabel='20'>"
      ]
     },
     "execution_count": 28,
     "metadata": {},
     "output_type": "execute_result"
    },
    {
     "data": {
      "image/png": "[encoded data removed]",
      "text/plain": [
       "<Figure size 432x288 with 1 Axes>"
      ]
     },
     "metadata": {
      "needs_background": "light"
     },
     "output_type": "display_data"
    }
   ],
   "source": [
    "# charlength+\",\"+termlength+\",\"+verb+\",\"+noun+\",\"+adj+\",\"+styleDis+\",\n",
    "# \"+contain$+\",\"+visibility+\",\"+startUpper+\",\"+uppercount+\",\"+digitcount+\",\n",
    "# \"+startOrEnd_+\",\"+consecutive_+\",\"+caseConsective+\",\"+commonPercentage+\",\"+label);\n",
    "\n",
    "#private\n",
    "sns.barplot(x=10, y=20, data=train)"
   ]
  },
  {
   "cell_type": "code",
   "execution_count": 29,
   "metadata": {},
   "outputs": [
    {
     "data": {
      "text/plain": [
       "<AxesSubplot:xlabel='11', ylabel='20'>"
      ]
     },
     "execution_count": 29,
     "metadata": {},
     "output_type": "execute_result"
    },
    {
     "data": {
      "image/png": "[encoded data removed]",
      "text/plain": [
       "<Figure size 432x288 with 1 Axes>"
      ]
     },
     "metadata": {
      "needs_background": "light"
     },
     "output_type": "display_data"
    }
   ],
   "source": [
    "# charlength+\",\"+termlength+\",\"+verb+\",\"+noun+\",\"+adj+\",\"+styleDis+\",\n",
    "# \"+contain$+\",\"+visibility+\",\"+startUpper+\",\"+uppercount+\",\"+digitcount+\",\n",
    "# \"+startOrEnd_+\",\"+consecutive_+\",\"+caseConsective+\",\"+commonPercentage+\",\"+label);\n",
    "\n",
    "#protected\n",
    "sns.barplot(x=11, y=20, data=train)"
   ]
  },
  {
   "cell_type": "code",
   "execution_count": 30,
   "metadata": {},
   "outputs": [
    {
     "data": {
      "text/plain": [
       "<AxesSubplot:xlabel='12', ylabel='20'>"
      ]
     },
     "execution_count": 30,
     "metadata": {},
     "output_type": "execute_result"
    },
    {
     "data": {
      "image/png": "[encoded data removed]",
      "text/plain": [
       "<Figure size 432x288 with 1 Axes>"
      ]
     },
     "metadata": {
      "needs_background": "light"
     },
     "output_type": "display_data"
    }
   ],
   "source": [
    "# charlength+\",\"+termlength+\",\"+verb+\",\"+noun+\",\"+adj+\",\"+styleDis+\",\n",
    "# \"+contain$+\",\"+visibility+\",\"+startUpper+\",\"+uppercount+\",\"+digitcount+\",\n",
    "# \"+startOrEnd_+\",\"+consecutive_+\",\"+caseConsective+\",\"+commonPercentage+\",\"+label);\n",
    "\n",
    "#default\n",
    "sns.barplot(x=12, y=20, data=train)"
   ]
  },
  {
   "cell_type": "code",
   "execution_count": 31,
   "metadata": {},
   "outputs": [
    {
     "data": {
      "text/plain": [
       "<AxesSubplot:xlabel='13', ylabel='20'>"
      ]
     },
     "execution_count": 31,
     "metadata": {},
     "output_type": "execute_result"
    },
    {
     "data": {
      "image/png": "[encoded data removed]",
      "text/plain": [
       "<Figure size 432x288 with 1 Axes>"
      ]
     },
     "metadata": {
      "needs_background": "light"
     },
     "output_type": "display_data"
    }
   ],
   "source": [
    "# charlength+\",\"+termlength+\",\"+verb+\",\"+noun+\",\"+adj+\",\"+styleDis+\",\n",
    "# \"+contain$+\",\"+visibility+\",\"+startUpper+\",\"+uppercount+\",\"+digitcount+\",\n",
    "# \"+startOrEnd_+\",\"+consecutive_+\",\"+caseConsective+\",\"+commonPercentage+\",\"+label);\n",
    "\n",
    "#以大写开头\n",
    "sns.barplot(x=13, y=20, data=train)"
   ]
  },
  {
   "cell_type": "code",
   "execution_count": 32,
   "metadata": {},
   "outputs": [
    {
     "data": {
      "text/plain": [
       "<AxesSubplot:xlabel='14', ylabel='20'>"
      ]
     },
     "execution_count": 32,
     "metadata": {},
     "output_type": "execute_result"
    },
    {
     "data": {
      "image/png": "[encoded data removed]",
      "text/plain": [
       "<Figure size 432x288 with 1 Axes>"
      ]
     },
     "metadata": {
      "needs_background": "light"
     },
     "output_type": "display_data"
    }
   ],
   "source": [
    "# charlength+\",\"+termlength+\",\"+verb+\",\"+noun+\",\"+adj+\",\"+styleDis+\",\n",
    "# \"+contain$+\",\"+visibility+\",\"+startUpper+\",\"+uppercount+\",\"+digitcount+\",\n",
    "# \"+startOrEnd_+\",\"+consecutive_+\",\"+caseConsective+\",\"+commonPercentage+\",\"+label);\n",
    "\n",
    "#大写字母数量\n",
    "sns.barplot(x=14, y=20, data=train)"
   ]
  },
  {
   "cell_type": "code",
   "execution_count": 33,
   "metadata": {},
   "outputs": [
    {
     "data": {
      "text/plain": [
       "<AxesSubplot:xlabel='15', ylabel='20'>"
      ]
     },
     "execution_count": 33,
     "metadata": {},
     "output_type": "execute_result"
    },
    {
     "data": {
      "image/png": "[encoded data removed]",
      "text/plain": [
       "<Figure size 432x288 with 1 Axes>"
      ]
     },
     "metadata": {
      "needs_background": "light"
     },
     "output_type": "display_data"
    }
   ],
   "source": [
    "# charlength+\",\"+termlength+\",\"+verb+\",\"+noun+\",\"+adj+\",\"+styleDis+\",\n",
    "# \"+contain$+\",\"+visibility+\",\"+startUpper+\",\"+uppercount+\",\"+digitcount+\",\n",
    "# \"+startOrEnd_+\",\"+consecutive_+\",\"+caseConsective+\",\"+commonPercentage+\",\"+label);\n",
    "\n",
    "#包含数字数量\n",
    "sns.barplot(x=15, y=20, data=train)"
   ]
  },
  {
   "cell_type": "code",
   "execution_count": 34,
   "metadata": {},
   "outputs": [
    {
     "data": {
      "text/plain": [
       "<AxesSubplot:xlabel='16', ylabel='20'>"
      ]
     },
     "execution_count": 34,
     "metadata": {},
     "output_type": "execute_result"
    },
    {
     "data": {
      "image/png": "[encoded data removed]",
      "text/plain": [
       "<Figure size 432x288 with 1 Axes>"
      ]
     },
     "metadata": {
      "needs_background": "light"
     },
     "output_type": "display_data"
    }
   ],
   "source": [
    "# charlength+\",\"+termlength+\",\"+verb+\",\"+noun+\",\"+adj+\",\"+styleDis+\",\n",
    "# \"+contain$+\",\"+visibility+\",\"+startUpper+\",\"+uppercount+\",\"+digitcount+\",\n",
    "# \"+startOrEnd_+\",\"+consecutive_+\",\"+caseConsective+\",\"+commonPercentage+\",\"+label);\n",
    "\n",
    "#以_开头或者结尾，临时变量？\n",
    "sns.barplot(x=16, y=20, data=train)"
   ]
  },
  {
   "cell_type": "code",
   "execution_count": 35,
   "metadata": {},
   "outputs": [
    {
     "data": {
      "text/plain": [
       "<AxesSubplot:xlabel='17', ylabel='20'>"
      ]
     },
     "execution_count": 35,
     "metadata": {},
     "output_type": "execute_result"
    },
    {
     "data": {
      "image/png": "[encoded data removed]",
      "text/plain": [
       "<Figure size 432x288 with 1 Axes>"
      ]
     },
     "metadata": {
      "needs_background": "light"
     },
     "output_type": "display_data"
    }
   ],
   "source": [
    "# charlength+\",\"+termlength+\",\"+verb+\",\"+noun+\",\"+adj+\",\"+styleDis+\",\n",
    "# \"+contain$+\",\"+visibility+\",\"+startUpper+\",\"+uppercount+\",\"+digitcount+\",\n",
    "# \"+startOrEnd_+\",\"+consecutive_+\",\"+caseConsective+\",\"+commonPercentage+\",\"+label);\n",
    "\n",
    "#包含多个__开头或者结尾，???(临时)---这个没有用\n",
    "sns.barplot(x=17, y=20, data=train)"
   ]
  },
  {
   "cell_type": "code",
   "execution_count": 36,
   "metadata": {},
   "outputs": [
    {
     "data": {
      "text/plain": [
       "<AxesSubplot:xlabel='18', ylabel='20'>"
      ]
     },
     "execution_count": 36,
     "metadata": {},
     "output_type": "execute_result"
    },
    {
     "data": {
      "image/png": "[encoded data removed]",
      "text/plain": [
       "<Figure size 432x288 with 1 Axes>"
      ]
     },
     "metadata": {
      "needs_background": "light"
     },
     "output_type": "display_data"
    }
   ],
   "source": [
    "# charlength+\",\"+termlength+\",\"+verb+\",\"+noun+\",\"+adj+\",\"+styleDis+\",\n",
    "# \"+contain$+\",\"+visibility+\",\"+startUpper+\",\"+uppercount+\",\"+digitcount+\",\n",
    "# \"+startOrEnd_+\",\"+consecutive_+\",\"+caseConsective+\",\"+commonPercentage+\",\"+label);\n",
    "\n",
    "#是否为camelCase，非camelCase的更可能重命名\n",
    "sns.barplot(x=18, y=20, data=train)"
   ]
  },
  {
   "cell_type": "code",
   "execution_count": 37,
   "metadata": {},
   "outputs": [
    {
     "data": {
      "text/plain": [
       "<AxesSubplot:xlabel='19', ylabel='20'>"
      ]
     },
     "execution_count": 37,
     "metadata": {},
     "output_type": "execute_result"
    },
    {
     "data": {
      "image/png": "[encoded data removed]",
      "text/plain": [
       "<Figure size 432x288 with 1 Axes>"
      ]
     },
     "metadata": {
      "needs_background": "light"
     },
     "output_type": "display_data"
    }
   ],
   "source": [
    "# charlength+\",\"+termlength+\",\"+verb+\",\"+noun+\",\"+adj+\",\"+styleDis+\",\n",
    "# \"+contain$+\",\"+visibility+\",\"+startUpper+\",\"+uppercount+\",\"+digitcount+\",\n",
    "# \"+startOrEnd_+\",\"+consecutive_+\",\"+caseConsective+\",\"+commonPercentage+\",\"+label);\n",
    "\n",
    "#标识符中包含常出现的词占多少\n",
    "sns.barplot(x=19, y=20, data=train)"
   ]
  },
  {
   "cell_type": "code",
   "execution_count": 38,
   "metadata": {},
   "outputs": [
    {
     "data": {
      "text/plain": [
       "Text(9.796657986111121, 0.5, 'label')"
      ]
     },
     "execution_count": 38,
     "metadata": {},
     "output_type": "execute_result"
    },
    {
     "data": {
      "image/png": "[encoded data removed]",
      "text/plain": [
       "<Figure size 474.375x216 with 1 Axes>"
      ]
     },
     "metadata": {
      "needs_background": "light"
     },
     "output_type": "display_data"
    }
   ],
   "source": [
    "facet = sns.FacetGrid(train, hue=20,aspect=2)\n",
    "facet.map(sns.kdeplot,19,shade= True)\n",
    "facet.set(xlim=(0, train[19].max()))\n",
    "facet.add_legend()\n",
    "plt.xlabel('commonWordd') \n",
    "plt.ylabel('label') \n",
    "#右侧这部分可以考虑分离，差别较大"
   ]
  },
  {
   "cell_type": "code",
   "execution_count": 1,
   "metadata": {},
   "outputs": [
    {
     "data": {
      "text/html": [
       "<div>\n",
       "<style scoped>\n",
       "    .dataframe tbody tr th:only-of-type {\n",
       "        vertical-align: middle;\n",
       "    }\n",
       "\n",
       "    .dataframe tbody tr th {\n",
       "        vertical-align: top;\n",
       "    }\n",
       "\n",
       "    .dataframe thead th {\n",
       "        text-align: right;\n",
       "    }\n",
       "</style>\n",
       "<table border=\"1\" class=\"dataframe\">\n",
       "  <thead>\n",
       "    <tr style=\"text-align: right;\">\n",
       "      <th></th>\n",
       "      <th>0</th>\n",
       "      <th>1</th>\n",
       "      <th>2</th>\n",
       "      <th>3</th>\n",
       "      <th>4</th>\n",
       "    </tr>\n",
       "  </thead>\n",
       "  <tbody>\n",
       "    <tr>\n",
       "      <th>0</th>\n",
       "      <td>1.000000</td>\n",
       "      <td>0.040853</td>\n",
       "      <td>NaN</td>\n",
       "      <td>NaN</td>\n",
       "      <td>-0.067599</td>\n",
       "    </tr>\n",
       "    <tr>\n",
       "      <th>1</th>\n",
       "      <td>0.040853</td>\n",
       "      <td>1.000000</td>\n",
       "      <td>NaN</td>\n",
       "      <td>NaN</td>\n",
       "      <td>0.001788</td>\n",
       "    </tr>\n",
       "    <tr>\n",
       "      <th>2</th>\n",
       "      <td>NaN</td>\n",
       "      <td>NaN</td>\n",
       "      <td>NaN</td>\n",
       "      <td>NaN</td>\n",
       "      <td>NaN</td>\n",
       "    </tr>\n",
       "    <tr>\n",
       "      <th>3</th>\n",
       "      <td>NaN</td>\n",
       "      <td>NaN</td>\n",
       "      <td>NaN</td>\n",
       "      <td>NaN</td>\n",
       "      <td>NaN</td>\n",
       "    </tr>\n",
       "    <tr>\n",
       "      <th>4</th>\n",
       "      <td>-0.067599</td>\n",
       "      <td>0.001788</td>\n",
       "      <td>NaN</td>\n",
       "      <td>NaN</td>\n",
       "      <td>1.000000</td>\n",
       "    </tr>\n",
       "  </tbody>\n",
       "</table>\n",
       "</div>"
      ],
      "text/plain": [
       "          0         1   2   3         4\n",
       "0  1.000000  0.040853 NaN NaN -0.067599\n",
       "1  0.040853  1.000000 NaN NaN  0.001788\n",
       "2       NaN       NaN NaN NaN       NaN\n",
       "3       NaN       NaN NaN NaN       NaN\n",
       "4 -0.067599  0.001788 NaN NaN  1.000000"
      ]
     },
     "execution_count": 1,
     "metadata": {},
     "output_type": "execute_result"
    }
   ],
   "source": [
    "import numpy as np\n",
    "import pandas as pd\n",
    "train = pd.read_csv(\"C:\\\\project\\\\IdentifierStyle\\\\data\\\\VersionDB\\\\prepocessed_data_extend\\\\numericData\\\\beam_G2_method_2.csv\",header=None)\n",
    "\n",
    "train.head()\n",
    "import seaborn as sns\n",
    "import pandas as pd\n",
    "corrmat = train.corr() ##corrmat是相关性矩阵\n",
    "corrmat"
   ]
  },
  {
   "cell_type": "code",
   "execution_count": 2,
   "metadata": {},
   "outputs": [
    {
     "ename": "NameError",
     "evalue": "name 'plt' is not defined",
     "output_type": "error",
     "traceback": [
      "\u001b[1;31m---------------------------------------------------------------------------\u001b[0m",
      "\u001b[1;31mNameError\u001b[0m                                 Traceback (most recent call last)",
      "\u001b[1;32m<ipython-input-2-4e6d7374066a>\u001b[0m in \u001b[0;36m<module>\u001b[1;34m\u001b[0m\n\u001b[1;32m----> 1\u001b[1;33m \u001b[0mf\u001b[0m\u001b[1;33m,\u001b[0m \u001b[0max\u001b[0m \u001b[1;33m=\u001b[0m \u001b[0mplt\u001b[0m\u001b[1;33m.\u001b[0m\u001b[0msubplots\u001b[0m\u001b[1;33m(\u001b[0m\u001b[0mfigsize\u001b[0m\u001b[1;33m=\u001b[0m\u001b[1;33m(\u001b[0m\u001b[1;36m12\u001b[0m\u001b[1;33m,\u001b[0m \u001b[1;36m9\u001b[0m\u001b[1;33m)\u001b[0m\u001b[1;33m)\u001b[0m\u001b[1;33m\u001b[0m\u001b[1;33m\u001b[0m\u001b[0m\n\u001b[0m\u001b[0;32m      2\u001b[0m \u001b[0msns\u001b[0m\u001b[1;33m.\u001b[0m\u001b[0mheatmap\u001b[0m\u001b[1;33m(\u001b[0m\u001b[0mcorrmat\u001b[0m\u001b[1;33m,\u001b[0m \u001b[0mvmax\u001b[0m\u001b[1;33m=\u001b[0m\u001b[1;36m.8\u001b[0m\u001b[1;33m,\u001b[0m \u001b[0msquare\u001b[0m\u001b[1;33m=\u001b[0m\u001b[1;32mTrue\u001b[0m\u001b[1;33m)\u001b[0m\u001b[1;33m\u001b[0m\u001b[1;33m\u001b[0m\u001b[0m\n",
      "\u001b[1;31mNameError\u001b[0m: name 'plt' is not defined"
     ]
    }
   ],
   "source": [
    "f, ax = plt.subplots(figsize=(12, 9))\n",
    "sns.heatmap(corrmat, vmax=.8, square=True) "
   ]
  },
  {
   "cell_type": "code",
   "execution_count": 41,
   "metadata": {},
   "outputs": [
    {
     "data": {
      "text/plain": [
       "Int64Index([20, 3, 0, 14, 18, 1, 11, 10, 15, 12], dtype='int64')"
      ]
     },
     "execution_count": 41,
     "metadata": {},
     "output_type": "execute_result"
    }
   ],
   "source": [
    "#选出前10个与房价强相关的变量\n",
    "k=10\n",
    "cols = corrmat.nlargest(k, 20)[20].index\n",
    "cols"
   ]
  },
  {
   "cell_type": "code",
   "execution_count": 42,
   "metadata": {},
   "outputs": [
    {
     "data": {
      "text/html": [
       "<div>\n",
       "<style scoped>\n",
       "    .dataframe tbody tr th:only-of-type {\n",
       "        vertical-align: middle;\n",
       "    }\n",
       "\n",
       "    .dataframe tbody tr th {\n",
       "        vertical-align: top;\n",
       "    }\n",
       "\n",
       "    .dataframe thead th {\n",
       "        text-align: right;\n",
       "    }\n",
       "</style>\n",
       "<table border=\"1\" class=\"dataframe\">\n",
       "  <thead>\n",
       "    <tr style=\"text-align: right;\">\n",
       "      <th></th>\n",
       "      <th>20</th>\n",
       "      <th>3</th>\n",
       "      <th>0</th>\n",
       "      <th>14</th>\n",
       "      <th>18</th>\n",
       "      <th>1</th>\n",
       "      <th>11</th>\n",
       "      <th>10</th>\n",
       "      <th>15</th>\n",
       "      <th>12</th>\n",
       "    </tr>\n",
       "  </thead>\n",
       "  <tbody>\n",
       "    <tr>\n",
       "      <th>20</th>\n",
       "      <td>1.000000</td>\n",
       "      <td>0.121856</td>\n",
       "      <td>0.108155</td>\n",
       "      <td>0.092788</td>\n",
       "      <td>0.084660</td>\n",
       "      <td>0.083377</td>\n",
       "      <td>0.075142</td>\n",
       "      <td>0.056443</td>\n",
       "      <td>0.049747</td>\n",
       "      <td>0.034903</td>\n",
       "    </tr>\n",
       "    <tr>\n",
       "      <th>3</th>\n",
       "      <td>0.121856</td>\n",
       "      <td>1.000000</td>\n",
       "      <td>0.580156</td>\n",
       "      <td>0.582858</td>\n",
       "      <td>0.062883</td>\n",
       "      <td>0.614275</td>\n",
       "      <td>0.004786</td>\n",
       "      <td>0.031434</td>\n",
       "      <td>0.034527</td>\n",
       "      <td>0.068082</td>\n",
       "    </tr>\n",
       "    <tr>\n",
       "      <th>0</th>\n",
       "      <td>0.108155</td>\n",
       "      <td>0.580156</td>\n",
       "      <td>1.000000</td>\n",
       "      <td>0.875729</td>\n",
       "      <td>0.089897</td>\n",
       "      <td>0.899926</td>\n",
       "      <td>0.006809</td>\n",
       "      <td>0.121940</td>\n",
       "      <td>0.120925</td>\n",
       "      <td>0.080887</td>\n",
       "    </tr>\n",
       "    <tr>\n",
       "      <th>14</th>\n",
       "      <td>0.092788</td>\n",
       "      <td>0.582858</td>\n",
       "      <td>0.875729</td>\n",
       "      <td>1.000000</td>\n",
       "      <td>0.193145</td>\n",
       "      <td>0.972180</td>\n",
       "      <td>-0.015883</td>\n",
       "      <td>0.094256</td>\n",
       "      <td>0.099242</td>\n",
       "      <td>0.041164</td>\n",
       "    </tr>\n",
       "    <tr>\n",
       "      <th>18</th>\n",
       "      <td>0.084660</td>\n",
       "      <td>0.062883</td>\n",
       "      <td>0.089897</td>\n",
       "      <td>0.193145</td>\n",
       "      <td>1.000000</td>\n",
       "      <td>0.116804</td>\n",
       "      <td>0.026033</td>\n",
       "      <td>0.053785</td>\n",
       "      <td>0.047129</td>\n",
       "      <td>0.024361</td>\n",
       "    </tr>\n",
       "    <tr>\n",
       "      <th>1</th>\n",
       "      <td>0.083377</td>\n",
       "      <td>0.614275</td>\n",
       "      <td>0.899926</td>\n",
       "      <td>0.972180</td>\n",
       "      <td>0.116804</td>\n",
       "      <td>1.000000</td>\n",
       "      <td>-0.021933</td>\n",
       "      <td>0.089161</td>\n",
       "      <td>0.112902</td>\n",
       "      <td>0.037262</td>\n",
       "    </tr>\n",
       "    <tr>\n",
       "      <th>11</th>\n",
       "      <td>0.075142</td>\n",
       "      <td>0.004786</td>\n",
       "      <td>0.006809</td>\n",
       "      <td>-0.015883</td>\n",
       "      <td>0.026033</td>\n",
       "      <td>-0.021933</td>\n",
       "      <td>1.000000</td>\n",
       "      <td>-0.013326</td>\n",
       "      <td>-0.003112</td>\n",
       "      <td>-0.011221</td>\n",
       "    </tr>\n",
       "    <tr>\n",
       "      <th>10</th>\n",
       "      <td>0.056443</td>\n",
       "      <td>0.031434</td>\n",
       "      <td>0.121940</td>\n",
       "      <td>0.094256</td>\n",
       "      <td>0.053785</td>\n",
       "      <td>0.089161</td>\n",
       "      <td>-0.013326</td>\n",
       "      <td>1.000000</td>\n",
       "      <td>0.003060</td>\n",
       "      <td>-0.012482</td>\n",
       "    </tr>\n",
       "    <tr>\n",
       "      <th>15</th>\n",
       "      <td>0.049747</td>\n",
       "      <td>0.034527</td>\n",
       "      <td>0.120925</td>\n",
       "      <td>0.099242</td>\n",
       "      <td>0.047129</td>\n",
       "      <td>0.112902</td>\n",
       "      <td>-0.003112</td>\n",
       "      <td>0.003060</td>\n",
       "      <td>1.000000</td>\n",
       "      <td>-0.000078</td>\n",
       "    </tr>\n",
       "    <tr>\n",
       "      <th>12</th>\n",
       "      <td>0.034903</td>\n",
       "      <td>0.068082</td>\n",
       "      <td>0.080887</td>\n",
       "      <td>0.041164</td>\n",
       "      <td>0.024361</td>\n",
       "      <td>0.037262</td>\n",
       "      <td>-0.011221</td>\n",
       "      <td>-0.012482</td>\n",
       "      <td>-0.000078</td>\n",
       "      <td>1.000000</td>\n",
       "    </tr>\n",
       "  </tbody>\n",
       "</table>\n",
       "</div>"
      ],
      "text/plain": [
       "          20        3         0         14        18        1         11  \\\n",
       "20  1.000000  0.121856  0.108155  0.092788  0.084660  0.083377  0.075142   \n",
       "3   0.121856  1.000000  0.580156  0.582858  0.062883  0.614275  0.004786   \n",
       "0   0.108155  0.580156  1.000000  0.875729  0.089897  0.899926  0.006809   \n",
       "14  0.092788  0.582858  0.875729  1.000000  0.193145  0.972180 -0.015883   \n",
       "18  0.084660  0.062883  0.089897  0.193145  1.000000  0.116804  0.026033   \n",
       "1   0.083377  0.614275  0.899926  0.972180  0.116804  1.000000 -0.021933   \n",
       "11  0.075142  0.004786  0.006809 -0.015883  0.026033 -0.021933  1.000000   \n",
       "10  0.056443  0.031434  0.121940  0.094256  0.053785  0.089161 -0.013326   \n",
       "15  0.049747  0.034527  0.120925  0.099242  0.047129  0.112902 -0.003112   \n",
       "12  0.034903  0.068082  0.080887  0.041164  0.024361  0.037262 -0.011221   \n",
       "\n",
       "          10        15        12  \n",
       "20  0.056443  0.049747  0.034903  \n",
       "3   0.031434  0.034527  0.068082  \n",
       "0   0.121940  0.120925  0.080887  \n",
       "14  0.094256  0.099242  0.041164  \n",
       "18  0.053785  0.047129  0.024361  \n",
       "1   0.089161  0.112902  0.037262  \n",
       "11 -0.013326 -0.003112 -0.011221  \n",
       "10  1.000000  0.003060 -0.012482  \n",
       "15  0.003060  1.000000 -0.000078  \n",
       "12 -0.012482 -0.000078  1.000000  "
      ]
     },
     "execution_count": 42,
     "metadata": {},
     "output_type": "execute_result"
    }
   ],
   "source": [
    "#查看10个变量的相关系数\n",
    "cols_cor = train[cols].corr()\n",
    "cols_cor"
   ]
  },
  {
   "cell_type": "code",
   "execution_count": 43,
   "metadata": {},
   "outputs": [
    {
     "data": {
      "text/plain": [
       "<AxesSubplot:>"
      ]
     },
     "execution_count": 43,
     "metadata": {},
     "output_type": "execute_result"
    },
    {
     "data": {
      "image/png": "[encoded data removed]",
      "text/plain": [
       "<Figure size 432x288 with 2 Axes>"
      ]
     },
     "metadata": {},
     "output_type": "display_data"
    }
   ],
   "source": [
    "#绘制热力图\n",
    "sns.set(font_scale=1.25)\n",
    "sns.heatmap(cols_cor, vmax=.8, cbar=True, annot=True, square=True, fmt='.2f', annot_kws={'size': 10})"
   ]
  },
  {
   "cell_type": "code",
   "execution_count": null,
   "metadata": {},
   "outputs": [],
   "source": []
  }
 ],
 "metadata": {
  "kernelspec": {
   "display_name": "Python 3",
   "language": "python",
   "name": "python3"
  },
  "language_info": {
   "codemirror_mode": {
    "name": "ipython",
    "version": 3
   },
   "file_extension": ".py",
   "mimetype": "text/x-python",
   "name": "python",
   "nbconvert_exporter": "python",
   "pygments_lexer": "ipython3",
   "version": "3.6.12"
  }
 },
 "nbformat": 4,
 "nbformat_minor": 4
}
