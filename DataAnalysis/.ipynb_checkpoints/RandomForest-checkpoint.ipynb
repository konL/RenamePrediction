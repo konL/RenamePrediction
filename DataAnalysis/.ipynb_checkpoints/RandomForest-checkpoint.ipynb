{
 "cells": [
  {
   "cell_type": "code",
   "execution_count": 1,
   "metadata": {},
   "outputs": [],
   "source": [
    "from sklearn.ensemble import RandomForestClassifier\n",
    "import csv\n",
    "# from sklearn.cross_validation import train_test_split\n",
    "from sklearn.metrics import accuracy_score\n",
    "from sklearn.metrics import confusion_matrix\n",
    "from sklearn.metrics import classification_report\n",
    "from sklearn.preprocessing import StandardScaler\n",
    "# ————————————————\n",
    "# 版权声明：本文为CSDN博主「little_yan_yan」的原创文章，遵循CC 4.0 BY-SA版权协议，转载请附上原文出处链接及本声明。\n",
    "# 原文链接：https://blog.csdn.net/littlle_yan/article/details/82663279\n",
    "from sklearn.model_selection import train_test_split\n",
    "\n",
    "import pandas as pd\n",
    "from imblearn.over_sampling import SMOTE # 导入SMOTE算法模块\n"
   ]
  },
  {
   "cell_type": "code",
   "execution_count": 7,
   "metadata": {},
   "outputs": [
    {
     "name": "stdout",
     "output_type": "stream",
     "text": [
      "0.9955622698517609\n",
      "[[10472     9]\n",
      " [   38    72]]\n",
      "              precision    recall  f1-score   support\n",
      "\n",
      "           0       1.00      1.00      1.00     10481\n",
      "           1       0.89      0.65      0.75       110\n",
      "\n",
      "    accuracy                           1.00     10591\n",
      "   macro avg       0.94      0.83      0.88     10591\n",
      "weighted avg       1.00      1.00      1.00     10591\n",
      "\n",
      "The precision of the lightgbm is: 0.8494472624700963\n",
      "The recall of the lightgbm is: 0.6415162452589025\n",
      "The f1 of the lightgbm is: 0.7382910629262668\n"
     ]
    }
   ],
   "source": [
    "#源数据产生具体看https://blog.csdn.net/ichuzhen/article/details/51768934\n",
    "df = pd.read_csv('C:\\\\project\\\\IdentifierStyle\\\\classification\\\\berData\\\\beam_ALL.csv',header=None)\n",
    "# # print(len(x_test), 'test examples')\n",
    "columns=df.columns\n",
    "\n",
    "#删除最后一列，即class列\n",
    "features_columns=columns.delete(len(columns)-1)\n",
    "#获取除class列以外的所有特征列\n",
    "x=df[features_columns]\n",
    "#获取class列\n",
    "y=df[45]\n",
    "\n",
    "scaler = StandardScaler() # 标准化转换\n",
    "scaler.fit(x)  # 训练标准化对象\n",
    "x= scaler.transform(x)   # 转换数据集\n",
    "feature_train, feature_test, target_train, target_test = train_test_split(x, y, test_size=0.2,random_state=0)\n",
    "\n",
    "\n",
    "# # #利用SMOTE创造新的数据集\n",
    " \n",
    "# # #初始化SMOTE 模型\n",
    "# oversampler=SMOTE(random_state=42)\n",
    "# # #使用SMOTE模型，创造新的数据集\n",
    "# feature_train,target_train=oversampler.fit_resample(feature_train,target_train)\n",
    "# clf = RandomForestClassifier(criterion='entropy')\n",
    "clf = RandomForestClassifier()\n",
    "clf.fit(feature_train,target_train)\n",
    "predict_results=clf.predict(feature_test)\n",
    "print(accuracy_score(predict_results, target_test))\n",
    "conf_mat = confusion_matrix(target_test, predict_results)\n",
    "print(conf_mat)\n",
    "print(classification_report(target_test, predict_results))\n",
    "\n",
    "from sklearn.model_selection import cross_val_score,KFold\n",
    "kf = KFold(n_splits=10,shuffle = True,random_state=1)\n",
    "precision = cross_val_score(clf, x, y, scoring='precision', cv=kf)\n",
    "recall = cross_val_score(clf, x, y, scoring='recall', cv=kf)\n",
    "f1_score = cross_val_score(clf, x, y, scoring='f1', cv=kf)\n",
    "print('The precision of the lightgbm is:',precision.mean())\n",
    "print('The recall of the lightgbm is:',recall.mean())\n",
    "print('The f1 of the lightgbm is:',f1_score.mean())"
   ]
  },
  {
   "cell_type": "code",
   "execution_count": 12,
   "metadata": {},
   "outputs": [
    {
     "ename": "NameError",
     "evalue": "name 'X_train' is not defined",
     "output_type": "error",
     "traceback": [
      "\u001b[1;31m---------------------------------------------------------------------------\u001b[0m",
      "\u001b[1;31mNameError\u001b[0m                                 Traceback (most recent call last)",
      "\u001b[1;32m<ipython-input-12-959f65fb4eb3>\u001b[0m in \u001b[0;36m<module>\u001b[1;34m\u001b[0m\n\u001b[0;32m      1\u001b[0m \u001b[0mforest\u001b[0m \u001b[1;33m=\u001b[0m \u001b[0mRandomForestClassifier\u001b[0m\u001b[1;33m(\u001b[0m\u001b[0mn_estimators\u001b[0m\u001b[1;33m=\u001b[0m\u001b[1;36m100\u001b[0m\u001b[1;33m,\u001b[0m\u001b[0mrandom_state\u001b[0m\u001b[1;33m=\u001b[0m\u001b[1;36m2\u001b[0m\u001b[1;33m)\u001b[0m\u001b[1;33m\u001b[0m\u001b[0m\n\u001b[1;32m----> 2\u001b[1;33m \u001b[0mforest\u001b[0m\u001b[1;33m.\u001b[0m\u001b[0mfit\u001b[0m\u001b[1;33m(\u001b[0m\u001b[0mX_train\u001b[0m\u001b[1;33m,\u001b[0m\u001b[0my_train\u001b[0m\u001b[1;33m)\u001b[0m\u001b[1;33m\u001b[0m\u001b[0m\n\u001b[0m",
      "\u001b[1;31mNameError\u001b[0m: name 'X_train' is not defined"
     ]
    }
   ],
   "source": [
    "forest = RandomForestClassifier(n_estimators=100,random_state=2)\n",
    "forest.fit(X_train,y_train)"
   ]
  },
  {
   "cell_type": "code",
   "execution_count": null,
   "metadata": {},
   "outputs": [],
   "source": [
    "print(\"Accuracy of train set {:.3f}\".format(forest.score(X_train,y_train)))\n",
    "print(\"Accuracy of test set {:.3f}\".format(forest.score(X_test,y_test)))\n"
   ]
  },
  {
   "cell_type": "code",
   "execution_count": null,
   "metadata": {},
   "outputs": [],
   "source": []
  }
 ],
 "metadata": {
  "kernelspec": {
   "display_name": "Python 3",
   "language": "python",
   "name": "python3"
  },
  "language_info": {
   "codemirror_mode": {
    "name": "ipython",
    "version": 3
   },
   "file_extension": ".py",
   "mimetype": "text/x-python",
   "name": "python",
   "nbconvert_exporter": "python",
   "pygments_lexer": "ipython3",
   "version": "3.6.12"
  }
 },
 "nbformat": 4,
 "nbformat_minor": 4
}
