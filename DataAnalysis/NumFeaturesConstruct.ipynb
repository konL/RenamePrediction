{
 "cells": [
  {
   "cell_type": "code",
   "execution_count": 2,
   "metadata": {},
   "outputs": [
    {
     "data": {
      "text/html": [
       "<div>\n",
       "<style scoped>\n",
       "    .dataframe tbody tr th:only-of-type {\n",
       "        vertical-align: middle;\n",
       "    }\n",
       "\n",
       "    .dataframe tbody tr th {\n",
       "        vertical-align: top;\n",
       "    }\n",
       "\n",
       "    .dataframe thead th {\n",
       "        text-align: right;\n",
       "    }\n",
       "</style>\n",
       "<table border=\"1\" class=\"dataframe\">\n",
       "  <thead>\n",
       "    <tr style=\"text-align: right;\">\n",
       "      <th></th>\n",
       "      <th>0</th>\n",
       "      <th>1</th>\n",
       "      <th>2</th>\n",
       "      <th>3</th>\n",
       "      <th>4</th>\n",
       "      <th>5</th>\n",
       "      <th>6</th>\n",
       "      <th>7</th>\n",
       "      <th>8</th>\n",
       "      <th>9</th>\n",
       "      <th>...</th>\n",
       "      <th>11</th>\n",
       "      <th>12</th>\n",
       "      <th>13</th>\n",
       "      <th>14</th>\n",
       "      <th>15</th>\n",
       "      <th>16</th>\n",
       "      <th>17</th>\n",
       "      <th>18</th>\n",
       "      <th>19</th>\n",
       "      <th>20</th>\n",
       "    </tr>\n",
       "  </thead>\n",
       "  <tbody>\n",
       "    <tr>\n",
       "      <th>0</th>\n",
       "      <td>66</td>\n",
       "      <td>9</td>\n",
       "      <td>1</td>\n",
       "      <td>1</td>\n",
       "      <td>1</td>\n",
       "      <td>1</td>\n",
       "      <td>0</td>\n",
       "      <td>0</td>\n",
       "      <td>0</td>\n",
       "      <td>1</td>\n",
       "      <td>...</td>\n",
       "      <td>0</td>\n",
       "      <td>0</td>\n",
       "      <td>0</td>\n",
       "      <td>0</td>\n",
       "      <td>0</td>\n",
       "      <td>0</td>\n",
       "      <td>0</td>\n",
       "      <td>0</td>\n",
       "      <td>0.888889</td>\n",
       "      <td>0</td>\n",
       "    </tr>\n",
       "    <tr>\n",
       "      <th>1</th>\n",
       "      <td>48</td>\n",
       "      <td>6</td>\n",
       "      <td>1</td>\n",
       "      <td>1</td>\n",
       "      <td>0</td>\n",
       "      <td>1</td>\n",
       "      <td>0</td>\n",
       "      <td>0</td>\n",
       "      <td>0</td>\n",
       "      <td>1</td>\n",
       "      <td>...</td>\n",
       "      <td>0</td>\n",
       "      <td>0</td>\n",
       "      <td>0</td>\n",
       "      <td>0</td>\n",
       "      <td>0</td>\n",
       "      <td>0</td>\n",
       "      <td>0</td>\n",
       "      <td>0</td>\n",
       "      <td>1.000000</td>\n",
       "      <td>0</td>\n",
       "    </tr>\n",
       "    <tr>\n",
       "      <th>2</th>\n",
       "      <td>29</td>\n",
       "      <td>4</td>\n",
       "      <td>1</td>\n",
       "      <td>1</td>\n",
       "      <td>0</td>\n",
       "      <td>1</td>\n",
       "      <td>0</td>\n",
       "      <td>0</td>\n",
       "      <td>0</td>\n",
       "      <td>1</td>\n",
       "      <td>...</td>\n",
       "      <td>0</td>\n",
       "      <td>0</td>\n",
       "      <td>0</td>\n",
       "      <td>0</td>\n",
       "      <td>0</td>\n",
       "      <td>0</td>\n",
       "      <td>0</td>\n",
       "      <td>0</td>\n",
       "      <td>1.000000</td>\n",
       "      <td>0</td>\n",
       "    </tr>\n",
       "    <tr>\n",
       "      <th>3</th>\n",
       "      <td>4</td>\n",
       "      <td>1</td>\n",
       "      <td>1</td>\n",
       "      <td>0</td>\n",
       "      <td>0</td>\n",
       "      <td>0</td>\n",
       "      <td>0</td>\n",
       "      <td>1</td>\n",
       "      <td>0</td>\n",
       "      <td>1</td>\n",
       "      <td>...</td>\n",
       "      <td>0</td>\n",
       "      <td>0</td>\n",
       "      <td>0</td>\n",
       "      <td>0</td>\n",
       "      <td>0</td>\n",
       "      <td>0</td>\n",
       "      <td>0</td>\n",
       "      <td>0</td>\n",
       "      <td>1.000000</td>\n",
       "      <td>0</td>\n",
       "    </tr>\n",
       "    <tr>\n",
       "      <th>4</th>\n",
       "      <td>10</td>\n",
       "      <td>2</td>\n",
       "      <td>1</td>\n",
       "      <td>1</td>\n",
       "      <td>0</td>\n",
       "      <td>0</td>\n",
       "      <td>1</td>\n",
       "      <td>0</td>\n",
       "      <td>0</td>\n",
       "      <td>1</td>\n",
       "      <td>...</td>\n",
       "      <td>0</td>\n",
       "      <td>0</td>\n",
       "      <td>0</td>\n",
       "      <td>1</td>\n",
       "      <td>0</td>\n",
       "      <td>0</td>\n",
       "      <td>0</td>\n",
       "      <td>0</td>\n",
       "      <td>1.000000</td>\n",
       "      <td>1</td>\n",
       "    </tr>\n",
       "  </tbody>\n",
       "</table>\n",
       "<p>5 rows × 21 columns</p>\n",
       "</div>"
      ],
      "text/plain": [
       "   0   1   2   3   4   5   6   7   8   9   ...  11  12  13  14  15  16  17  \\\n",
       "0  66   9   1   1   1   1   0   0   0   1  ...   0   0   0   0   0   0   0   \n",
       "1  48   6   1   1   0   1   0   0   0   1  ...   0   0   0   0   0   0   0   \n",
       "2  29   4   1   1   0   1   0   0   0   1  ...   0   0   0   0   0   0   0   \n",
       "3   4   1   1   0   0   0   0   1   0   1  ...   0   0   0   0   0   0   0   \n",
       "4  10   2   1   1   0   0   1   0   0   1  ...   0   0   0   1   0   0   0   \n",
       "\n",
       "   18        19  20  \n",
       "0   0  0.888889   0  \n",
       "1   0  1.000000   0  \n",
       "2   0  1.000000   0  \n",
       "3   0  1.000000   0  \n",
       "4   0  1.000000   1  \n",
       "\n",
       "[5 rows x 21 columns]"
      ]
     },
     "execution_count": 2,
     "metadata": {},
     "output_type": "execute_result"
    }
   ],
   "source": [
    "import numpy as np\n",
    "import pandas as pd\n",
    "train = pd.read_csv(\"C:\\\\project\\\\IdentifierStyle\\\\data\\\\VersionDB\\\\prepocessed_data\\\\numericData\\\\dubbo_train_G1.csv\",header=None)\n",
    "\n",
    "train.head()\n"
   ]
  },
  {
   "cell_type": "code",
   "execution_count": 3,
   "metadata": {},
   "outputs": [
    {
     "name": "stdout",
     "output_type": "stream",
     "text": [
      "<class 'pandas.core.frame.DataFrame'>\n",
      "RangeIndex: 158824 entries, 0 to 158823\n",
      "Data columns (total 21 columns):\n",
      "0     158824 non-null int64\n",
      "1     158824 non-null int64\n",
      "2     158824 non-null int64\n",
      "3     158824 non-null int64\n",
      "4     158824 non-null int64\n",
      "5     158824 non-null int64\n",
      "6     158824 non-null int64\n",
      "7     158824 non-null int64\n",
      "8     158824 non-null int64\n",
      "9     158824 non-null int64\n",
      "10    158824 non-null int64\n",
      "11    158824 non-null int64\n",
      "12    158824 non-null int64\n",
      "13    158824 non-null int64\n",
      "14    158824 non-null int64\n",
      "15    158824 non-null int64\n",
      "16    158824 non-null int64\n",
      "17    158824 non-null int64\n",
      "18    158824 non-null int64\n",
      "19    158824 non-null float64\n",
      "20    158824 non-null int64\n",
      "dtypes: float64(1), int64(20)\n",
      "memory usage: 25.4 MB\n"
     ]
    }
   ],
   "source": [
    "train.info()#没有空值"
   ]
  },
  {
   "cell_type": "code",
   "execution_count": 9,
   "metadata": {},
   "outputs": [
    {
     "data": {
      "text/plain": [
       "1    98077\n",
       "0    60747\n",
       "Name: 6, dtype: int64"
      ]
     },
     "execution_count": 9,
     "metadata": {},
     "output_type": "execute_result"
    }
   ],
   "source": [
    "#数据初步分析\n",
    "train[6].value_counts()"
   ]
  },
  {
   "cell_type": "code",
   "execution_count": 26,
   "metadata": {},
   "outputs": [
    {
     "data": {
      "text/plain": [
       "<AxesSubplot:xlabel='8', ylabel='20'>"
      ]
     },
     "execution_count": 26,
     "metadata": {},
     "output_type": "execute_result"
    },
    {
     "data": {
      "image/png": "[encoded data removed]",
      "text/plain": [
       "<Figure size 432x288 with 1 Axes>"
      ]
     },
     "metadata": {
      "needs_background": "light"
     },
     "output_type": "display_data"
    }
   ],
   "source": [
    "# charlength+\",\"+termlength+\",\"+verb+\",\"+noun+\",\"+adj+\",\"+styleDis+\",\n",
    "# \"+contain$+\",\"+visibility+\",\"+startUpper+\",\"+uppercount+\",\"+digitcount+\",\n",
    "# \"+startOrEnd_+\",\"+consecutive_+\",\"+caseConsective+\",\"+commonPercentage+\",\"+label);\n",
    "import matplotlib.pyplot as plt\n",
    "import seaborn as sns\n",
    "import warnings\n",
    "warnings.filterwarnings('ignore')\n",
    "#barplot代表首先根据x区分不同的组，然后计算不同的组中的y的平均值画出来\n",
    "#是否包含 $ (代表临时变量？) contain$\n",
    "sns.barplot(x=8, y=20, data=train)"
   ]
  },
  {
   "cell_type": "code",
   "execution_count": 8,
   "metadata": {},
   "outputs": [
    {
     "data": {
      "text/plain": [
       "<AxesSubplot:xlabel='11', ylabel='20'>"
      ]
     },
     "execution_count": 8,
     "metadata": {},
     "output_type": "execute_result"
    },
    {
     "data": {
      "image/png": "[encoded data removed]",
      "text/plain": [
       "<Figure size 432x288 with 1 Axes>"
      ]
     },
     "metadata": {
      "needs_background": "light"
     },
     "output_type": "display_data"
    }
   ],
   "source": [
    "#.startsWith(\"_\")或者结束，也代表临时？ startOrEnd_\n",
    "sns.barplot(x=11, y=20, data=train)"
   ]
  },
  {
   "cell_type": "code",
   "execution_count": 14,
   "metadata": {},
   "outputs": [
    {
     "data": {
      "text/plain": [
       "<AxesSubplot:xlabel='1', ylabel='20'>"
      ]
     },
     "execution_count": 14,
     "metadata": {},
     "output_type": "execute_result"
    },
    {
     "data": {
      "image/png": "[encoded data removed]",
      "text/plain": [
       "<Figure size 432x288 with 1 Axes>"
      ]
     },
     "metadata": {
      "needs_background": "light"
     },
     "output_type": "display_data"
    }
   ],
   "source": [
    "#term length 总之是越长的标识符越有可能重命名\n",
    "sns.barplot(x=1, y=20, data=train)"
   ]
  },
  {
   "cell_type": "code",
   "execution_count": 15,
   "metadata": {},
   "outputs": [
    {
     "data": {
      "text/plain": [
       "<AxesSubplot:xlabel='0', ylabel='20'>"
      ]
     },
     "execution_count": 15,
     "metadata": {},
     "output_type": "execute_result"
    },
    {
     "data": {
      "image/png": "[encoded data removed]",
      "text/plain": [
       "<Figure size 432x288 with 1 Axes>"
      ]
     },
     "metadata": {
      "needs_background": "light"
     },
     "output_type": "display_data"
    }
   ],
   "source": [
    "# charlength+\",\"+termlength+\",\"+verb+\",\"+noun+\",\"+adj+\",\"+styleDis+\",\n",
    "# \"+contain$+\",\"+visibility+\",\"+startUpper+\",\"+uppercount+\",\"+digitcount+\",\n",
    "# \"+startOrEnd_+\",\"+consecutive_+\",\"+caseConsective+\",\"+commonPercentage+\",\"+label);\n",
    "\n",
    "#charLength\n",
    "sns.barplot(x=0, y=20, data=train)"
   ]
  },
  {
   "cell_type": "code",
   "execution_count": 16,
   "metadata": {},
   "outputs": [
    {
     "data": {
      "text/plain": [
       "<AxesSubplot:xlabel='2', ylabel='20'>"
      ]
     },
     "execution_count": 16,
     "metadata": {},
     "output_type": "execute_result"
    },
    {
     "data": {
      "image/png": "[encoded data removed]",
      "text/plain": [
       "<Figure size 432x288 with 1 Axes>"
      ]
     },
     "metadata": {
      "needs_background": "light"
     },
     "output_type": "display_data"
    }
   ],
   "source": [
    "#verb+\",\"+noun+\",\"+adj 即标识符分词后的术语中是否包含这三类词性的术语\n",
    "#不包含动词的标识符中重命名次数更低\n",
    "sns.barplot(x=2, y=20, data=train)"
   ]
  },
  {
   "cell_type": "code",
   "execution_count": 17,
   "metadata": {},
   "outputs": [
    {
     "data": {
      "text/plain": [
       "<AxesSubplot:xlabel='3', ylabel='20'>"
      ]
     },
     "execution_count": 17,
     "metadata": {},
     "output_type": "execute_result"
    },
    {
     "data": {
      "image/png": "[encoded data removed]",
      "text/plain": [
       "<Figure size 432x288 with 1 Axes>"
      ]
     },
     "metadata": {
      "needs_background": "light"
     },
     "output_type": "display_data"
    }
   ],
   "source": [
    "sns.barplot(x=3, y=20, data=train)"
   ]
  },
  {
   "cell_type": "code",
   "execution_count": 18,
   "metadata": {},
   "outputs": [
    {
     "data": {
      "text/plain": [
       "<AxesSubplot:xlabel='4', ylabel='20'>"
      ]
     },
     "execution_count": 18,
     "metadata": {},
     "output_type": "execute_result"
    },
    {
     "data": {
      "image/png": "[encoded data removed]",
      "text/plain": [
       "<Figure size 432x288 with 1 Axes>"
      ]
     },
     "metadata": {
      "needs_background": "light"
     },
     "output_type": "display_data"
    }
   ],
   "source": [
    "sns.barplot(x=4, y=20, data=train)"
   ]
  },
  {
   "cell_type": "code",
   "execution_count": 24,
   "metadata": {},
   "outputs": [
    {
     "data": {
      "text/plain": [
       "<AxesSubplot:xlabel='5', ylabel='20'>"
      ]
     },
     "execution_count": 24,
     "metadata": {},
     "output_type": "execute_result"
    },
    {
     "data": {
      "image/png": "[encoded data removed]",
      "text/plain": [
       "<Figure size 432x288 with 1 Axes>"
      ]
     },
     "metadata": {
      "needs_background": "light"
     },
     "output_type": "display_data"
    }
   ],
   "source": [
    "# charlength+\",\"+termlength+\",\"+verb+\",\"+noun+\",\"+adj+\",\"+styleDis+\",\n",
    "# \"+contain$+\",\"+visibility+\",\"+startUpper+\",\"+uppercount+\",\"+digitcount+\",\n",
    "# \"+startOrEnd_+\",\"+consecutive_+\",\"+caseConsective+\",\"+commonPercentage+\",\"+label);\n",
    "\n",
    "#charLength\n",
    "sns.barplot(x=5, y=20, data=train)"
   ]
  },
  {
   "cell_type": "code",
   "execution_count": 23,
   "metadata": {},
   "outputs": [
    {
     "data": {
      "text/plain": [
       "<AxesSubplot:xlabel='6', ylabel='20'>"
      ]
     },
     "execution_count": 23,
     "metadata": {},
     "output_type": "execute_result"
    },
    {
     "data": {
      "image/png": "[encoded data removed]",
      "text/plain": [
       "<Figure size 432x288 with 1 Axes>"
      ]
     },
     "metadata": {
      "needs_background": "light"
     },
     "output_type": "display_data"
    }
   ],
   "source": [
    "# charlength+\",\"+termlength+\",\"+verb+\",\"+noun+\",\"+adj+\",\"+styleDis+\",\n",
    "# \"+contain$+\",\"+visibility+\",\"+startUpper+\",\"+uppercount+\",\"+digitcount+\",\n",
    "# \"+startOrEnd_+\",\"+consecutive_+\",\"+caseConsective+\",\"+commonPercentage+\",\"+label);\n",
    "\n",
    "#charLength\n",
    "sns.barplot(x=6, y=20, data=train)"
   ]
  },
  {
   "cell_type": "code",
   "execution_count": 25,
   "metadata": {},
   "outputs": [
    {
     "data": {
      "text/plain": [
       "<AxesSubplot:xlabel='7', ylabel='20'>"
      ]
     },
     "execution_count": 25,
     "metadata": {},
     "output_type": "execute_result"
    },
    {
     "data": {
      "image/png": "[encoded data removed]",
      "text/plain": [
       "<Figure size 432x288 with 1 Axes>"
      ]
     },
     "metadata": {
      "needs_background": "light"
     },
     "output_type": "display_data"
    }
   ],
   "source": [
    "# charlength+\",\"+termlength+\",\"+verb+\",\"+noun+\",\"+adj+\",\"+styleDis+\",\n",
    "# \"+contain$+\",\"+visibility+\",\"+startUpper+\",\"+uppercount+\",\"+digitcount+\",\n",
    "# \"+startOrEnd_+\",\"+consecutive_+\",\"+caseConsective+\",\"+commonPercentage+\",\"+label);\n",
    "\n",
    "#charLength\n",
    "sns.barplot(x=7, y=20, data=train)"
   ]
  },
  {
   "cell_type": "code",
   "execution_count": 27,
   "metadata": {},
   "outputs": [
    {
     "data": {
      "text/plain": [
       "<AxesSubplot:xlabel='9', ylabel='20'>"
      ]
     },
     "execution_count": 27,
     "metadata": {},
     "output_type": "execute_result"
    },
    {
     "data": {
      "image/png": "[encoded data removed]",
      "text/plain": [
       "<Figure size 432x288 with 1 Axes>"
      ]
     },
     "metadata": {
      "needs_background": "light"
     },
     "output_type": "display_data"
    }
   ],
   "source": [
    "# charlength+\",\"+termlength+\",\"+verb+\",\"+noun+\",\"+adj+\",\"+styleDis+\",\n",
    "# \"+contain$+\",\"+visibility+\",\"+startUpper+\",\"+uppercount+\",\"+digitcount+\",\n",
    "# \"+startOrEnd_+\",\"+consecutive_+\",\"+caseConsective+\",\"+commonPercentage+\",\"+label);\n",
    "\n",
    "#publi\n",
    "sns.barplot(x=9, y=20, data=train)"
   ]
  },
  {
   "cell_type": "code",
   "execution_count": 28,
   "metadata": {},
   "outputs": [
    {
     "data": {
      "text/plain": [
       "<AxesSubplot:xlabel='10', ylabel='20'>"
      ]
     },
     "execution_count": 28,
     "metadata": {},
     "output_type": "execute_result"
    },
    {
     "data": {
      "image/png": "[encoded data removed]",
      "text/plain": [
       "<Figure size 432x288 with 1 Axes>"
      ]
     },
     "metadata": {
      "needs_background": "light"
     },
     "output_type": "display_data"
    }
   ],
   "source": [
    "# charlength+\",\"+termlength+\",\"+verb+\",\"+noun+\",\"+adj+\",\"+styleDis+\",\n",
    "# \"+contain$+\",\"+visibility+\",\"+startUpper+\",\"+uppercount+\",\"+digitcount+\",\n",
    "# \"+startOrEnd_+\",\"+consecutive_+\",\"+caseConsective+\",\"+commonPercentage+\",\"+label);\n",
    "\n",
    "#private\n",
    "sns.barplot(x=10, y=20, data=train)"
   ]
  },
  {
   "cell_type": "code",
   "execution_count": 29,
   "metadata": {},
   "outputs": [
    {
     "data": {
      "text/plain": [
       "<AxesSubplot:xlabel='11', ylabel='20'>"
      ]
     },
     "execution_count": 29,
     "metadata": {},
     "output_type": "execute_result"
    },
    {
     "data": {
      "image/png": "[encoded data removed]",
      "text/plain": [
       "<Figure size 432x288 with 1 Axes>"
      ]
     },
     "metadata": {
      "needs_background": "light"
     },
     "output_type": "display_data"
    }
   ],
   "source": [
    "# charlength+\",\"+termlength+\",\"+verb+\",\"+noun+\",\"+adj+\",\"+styleDis+\",\n",
    "# \"+contain$+\",\"+visibility+\",\"+startUpper+\",\"+uppercount+\",\"+digitcount+\",\n",
    "# \"+startOrEnd_+\",\"+consecutive_+\",\"+caseConsective+\",\"+commonPercentage+\",\"+label);\n",
    "\n",
    "#protected\n",
    "sns.barplot(x=11, y=20, data=train)"
   ]
  },
  {
   "cell_type": "code",
   "execution_count": 30,
   "metadata": {},
   "outputs": [
    {
     "data": {
      "text/plain": [
       "<AxesSubplot:xlabel='12', ylabel='20'>"
      ]
     },
     "execution_count": 30,
     "metadata": {},
     "output_type": "execute_result"
    },
    {
     "data": {
      "image/png": "[encoded data removed]",
      "text/plain": [
       "<Figure size 432x288 with 1 Axes>"
      ]
     },
     "metadata": {
      "needs_background": "light"
     },
     "output_type": "display_data"
    }
   ],
   "source": [
    "# charlength+\",\"+termlength+\",\"+verb+\",\"+noun+\",\"+adj+\",\"+styleDis+\",\n",
    "# \"+contain$+\",\"+visibility+\",\"+startUpper+\",\"+uppercount+\",\"+digitcount+\",\n",
    "# \"+startOrEnd_+\",\"+consecutive_+\",\"+caseConsective+\",\"+commonPercentage+\",\"+label);\n",
    "\n",
    "#default\n",
    "sns.barplot(x=12, y=20, data=train)"
   ]
  },
  {
   "cell_type": "code",
   "execution_count": 31,
   "metadata": {},
   "outputs": [
    {
     "data": {
      "text/plain": [
       "<AxesSubplot:xlabel='13', ylabel='20'>"
      ]
     },
     "execution_count": 31,
     "metadata": {},
     "output_type": "execute_result"
    },
    {
     "data": {
      "image/png": "[encoded data removed]",
      "text/plain": [
       "<Figure size 432x288 with 1 Axes>"
      ]
     },
     "metadata": {
      "needs_background": "light"
     },
     "output_type": "display_data"
    }
   ],
   "source": [
    "# charlength+\",\"+termlength+\",\"+verb+\",\"+noun+\",\"+adj+\",\"+styleDis+\",\n",
    "# \"+contain$+\",\"+visibility+\",\"+startUpper+\",\"+uppercount+\",\"+digitcount+\",\n",
    "# \"+startOrEnd_+\",\"+consecutive_+\",\"+caseConsective+\",\"+commonPercentage+\",\"+label);\n",
    "\n",
    "#以大写开头\n",
    "sns.barplot(x=13, y=20, data=train)"
   ]
  },
  {
   "cell_type": "code",
   "execution_count": 32,
   "metadata": {},
   "outputs": [
    {
     "data": {
      "text/plain": [
       "<AxesSubplot:xlabel='14', ylabel='20'>"
      ]
     },
     "execution_count": 32,
     "metadata": {},
     "output_type": "execute_result"
    },
    {
     "data": {
      "image/png": "[encoded data removed]",
      "text/plain": [
       "<Figure size 432x288 with 1 Axes>"
      ]
     },
     "metadata": {
      "needs_background": "light"
     },
     "output_type": "display_data"
    }
   ],
   "source": [
    "# charlength+\",\"+termlength+\",\"+verb+\",\"+noun+\",\"+adj+\",\"+styleDis+\",\n",
    "# \"+contain$+\",\"+visibility+\",\"+startUpper+\",\"+uppercount+\",\"+digitcount+\",\n",
    "# \"+startOrEnd_+\",\"+consecutive_+\",\"+caseConsective+\",\"+commonPercentage+\",\"+label);\n",
    "\n",
    "#大写字母数量\n",
    "sns.barplot(x=14, y=20, data=train)"
   ]
  },
  {
   "cell_type": "code",
   "execution_count": 33,
   "metadata": {},
   "outputs": [
    {
     "data": {
      "text/plain": [
       "<AxesSubplot:xlabel='15', ylabel='20'>"
      ]
     },
     "execution_count": 33,
     "metadata": {},
     "output_type": "execute_result"
    },
    {
     "data": {
      "image/png": "[encoded data removed]",
      "text/plain": [
       "<Figure size 432x288 with 1 Axes>"
      ]
     },
     "metadata": {
      "needs_background": "light"
     },
     "output_type": "display_data"
    }
   ],
   "source": [
    "# charlength+\",\"+termlength+\",\"+verb+\",\"+noun+\",\"+adj+\",\"+styleDis+\",\n",
    "# \"+contain$+\",\"+visibility+\",\"+startUpper+\",\"+uppercount+\",\"+digitcount+\",\n",
    "# \"+startOrEnd_+\",\"+consecutive_+\",\"+caseConsective+\",\"+commonPercentage+\",\"+label);\n",
    "\n",
    "#包含数字数量\n",
    "sns.barplot(x=15, y=20, data=train)"
   ]
  },
  {
   "cell_type": "code",
   "execution_count": 34,
   "metadata": {},
   "outputs": [
    {
     "data": {
      "text/plain": [
       "<AxesSubplot:xlabel='16', ylabel='20'>"
      ]
     },
     "execution_count": 34,
     "metadata": {},
     "output_type": "execute_result"
    },
    {
     "data": {
      "image/png": "[encoded data removed]",
      "text/plain": [
       "<Figure size 432x288 with 1 Axes>"
      ]
     },
     "metadata": {
      "needs_background": "light"
     },
     "output_type": "display_data"
    }
   ],
   "source": [
    "# charlength+\",\"+termlength+\",\"+verb+\",\"+noun+\",\"+adj+\",\"+styleDis+\",\n",
    "# \"+contain$+\",\"+visibility+\",\"+startUpper+\",\"+uppercount+\",\"+digitcount+\",\n",
    "# \"+startOrEnd_+\",\"+consecutive_+\",\"+caseConsective+\",\"+commonPercentage+\",\"+label);\n",
    "\n",
    "#以_开头或者结尾，临时变量？\n",
    "sns.barplot(x=16, y=20, data=train)"
   ]
  },
  {
   "cell_type": "code",
   "execution_count": 35,
   "metadata": {},
   "outputs": [
    {
     "data": {
      "text/plain": [
       "<AxesSubplot:xlabel='17', ylabel='20'>"
      ]
     },
     "execution_count": 35,
     "metadata": {},
     "output_type": "execute_result"
    },
    {
     "data": {
      "image/png": "[encoded data removed]",
      "text/plain": [
       "<Figure size 432x288 with 1 Axes>"
      ]
     },
     "metadata": {
      "needs_background": "light"
     },
     "output_type": "display_data"
    }
   ],
   "source": [
    "# charlength+\",\"+termlength+\",\"+verb+\",\"+noun+\",\"+adj+\",\"+styleDis+\",\n",
    "# \"+contain$+\",\"+visibility+\",\"+startUpper+\",\"+uppercount+\",\"+digitcount+\",\n",
    "# \"+startOrEnd_+\",\"+consecutive_+\",\"+caseConsective+\",\"+commonPercentage+\",\"+label);\n",
    "\n",
    "#包含多个__开头或者结尾，???(临时)---这个没有用\n",
    "sns.barplot(x=17, y=20, data=train)"
   ]
  },
  {
   "cell_type": "code",
   "execution_count": 36,
   "metadata": {},
   "outputs": [
    {
     "data": {
      "text/plain": [
       "<AxesSubplot:xlabel='18', ylabel='20'>"
      ]
     },
     "execution_count": 36,
     "metadata": {},
     "output_type": "execute_result"
    },
    {
     "data": {
      "image/png": "[encoded data removed]",
      "text/plain": [
       "<Figure size 432x288 with 1 Axes>"
      ]
     },
     "metadata": {
      "needs_background": "light"
     },
     "output_type": "display_data"
    }
   ],
   "source": [
    "# charlength+\",\"+termlength+\",\"+verb+\",\"+noun+\",\"+adj+\",\"+styleDis+\",\n",
    "# \"+contain$+\",\"+visibility+\",\"+startUpper+\",\"+uppercount+\",\"+digitcount+\",\n",
    "# \"+startOrEnd_+\",\"+consecutive_+\",\"+caseConsective+\",\"+commonPercentage+\",\"+label);\n",
    "\n",
    "#是否为camelCase，非camelCase的更可能重命名\n",
    "sns.barplot(x=18, y=20, data=train)"
   ]
  },
  {
   "cell_type": "code",
   "execution_count": 37,
   "metadata": {},
   "outputs": [
    {
     "data": {
      "text/plain": [
       "<AxesSubplot:xlabel='19', ylabel='20'>"
      ]
     },
     "execution_count": 37,
     "metadata": {},
     "output_type": "execute_result"
    },
    {
     "data": {
      "image/png": "[encoded data removed]",
      "text/plain": [
       "<Figure size 432x288 with 1 Axes>"
      ]
     },
     "metadata": {
      "needs_background": "light"
     },
     "output_type": "display_data"
    }
   ],
   "source": [
    "# charlength+\",\"+termlength+\",\"+verb+\",\"+noun+\",\"+adj+\",\"+styleDis+\",\n",
    "# \"+contain$+\",\"+visibility+\",\"+startUpper+\",\"+uppercount+\",\"+digitcount+\",\n",
    "# \"+startOrEnd_+\",\"+consecutive_+\",\"+caseConsective+\",\"+commonPercentage+\",\"+label);\n",
    "\n",
    "#标识符中包含常出现的词占多少\n",
    "sns.barplot(x=19, y=20, data=train)"
   ]
  },
  {
   "cell_type": "code",
   "execution_count": 38,
   "metadata": {},
   "outputs": [
    {
     "data": {
      "text/plain": [
       "Text(9.796657986111121, 0.5, 'label')"
      ]
     },
     "execution_count": 38,
     "metadata": {},
     "output_type": "execute_result"
    },
    {
     "data": {
      "image/png": "[encoded data removed]",
      "text/plain": [
       "<Figure size 474.375x216 with 1 Axes>"
      ]
     },
     "metadata": {
      "needs_background": "light"
     },
     "output_type": "display_data"
    }
   ],
   "source": [
    "facet = sns.FacetGrid(train, hue=20,aspect=2)\n",
    "facet.map(sns.kdeplot,19,shade= True)\n",
    "facet.set(xlim=(0, train[19].max()))\n",
    "facet.add_legend()\n",
    "plt.xlabel('commonWordd') \n",
    "plt.ylabel('label') \n",
    "#右侧这部分可以考虑分离，差别较大"
   ]
  },
  {
   "cell_type": "code",
   "execution_count": 84,
   "metadata": {},
   "outputs": [
    {
     "data": {
      "text/html": [
       "<div>\n",
       "<style scoped>\n",
       "    .dataframe tbody tr th:only-of-type {\n",
       "        vertical-align: middle;\n",
       "    }\n",
       "\n",
       "    .dataframe tbody tr th {\n",
       "        vertical-align: top;\n",
       "    }\n",
       "\n",
       "    .dataframe thead th {\n",
       "        text-align: right;\n",
       "    }\n",
       "</style>\n",
       "<table border=\"1\" class=\"dataframe\">\n",
       "  <thead>\n",
       "    <tr style=\"text-align: right;\">\n",
       "      <th></th>\n",
       "      <th>0</th>\n",
       "      <th>1</th>\n",
       "      <th>2</th>\n",
       "      <th>3</th>\n",
       "      <th>4</th>\n",
       "      <th>5</th>\n",
       "      <th>6</th>\n",
       "      <th>7</th>\n",
       "      <th>8</th>\n",
       "      <th>9</th>\n",
       "      <th>...</th>\n",
       "      <th>12</th>\n",
       "      <th>13</th>\n",
       "      <th>14</th>\n",
       "      <th>15</th>\n",
       "      <th>16</th>\n",
       "      <th>17</th>\n",
       "      <th>18</th>\n",
       "      <th>19</th>\n",
       "      <th>20</th>\n",
       "      <th>21</th>\n",
       "    </tr>\n",
       "  </thead>\n",
       "  <tbody>\n",
       "    <tr>\n",
       "      <th>0</th>\n",
       "      <td>1.000000</td>\n",
       "      <td>0.930854</td>\n",
       "      <td>0.364089</td>\n",
       "      <td>0.208558</td>\n",
       "      <td>0.306979</td>\n",
       "      <td>0.072833</td>\n",
       "      <td>0.511503</td>\n",
       "      <td>-0.541165</td>\n",
       "      <td>NaN</td>\n",
       "      <td>0.526638</td>\n",
       "      <td>...</td>\n",
       "      <td>-0.517764</td>\n",
       "      <td>0.053329</td>\n",
       "      <td>0.721336</td>\n",
       "      <td>-0.074074</td>\n",
       "      <td>NaN</td>\n",
       "      <td>NaN</td>\n",
       "      <td>0.067747</td>\n",
       "      <td>0.215226</td>\n",
       "      <td>-0.027963</td>\n",
       "      <td>0.144034</td>\n",
       "    </tr>\n",
       "    <tr>\n",
       "      <th>1</th>\n",
       "      <td>0.930854</td>\n",
       "      <td>1.000000</td>\n",
       "      <td>0.377277</td>\n",
       "      <td>0.208116</td>\n",
       "      <td>0.300334</td>\n",
       "      <td>0.053413</td>\n",
       "      <td>0.546522</td>\n",
       "      <td>-0.571107</td>\n",
       "      <td>NaN</td>\n",
       "      <td>0.532664</td>\n",
       "      <td>...</td>\n",
       "      <td>-0.520213</td>\n",
       "      <td>0.043217</td>\n",
       "      <td>0.743301</td>\n",
       "      <td>0.011915</td>\n",
       "      <td>NaN</td>\n",
       "      <td>NaN</td>\n",
       "      <td>0.106953</td>\n",
       "      <td>0.154213</td>\n",
       "      <td>-0.136537</td>\n",
       "      <td>0.159488</td>\n",
       "    </tr>\n",
       "    <tr>\n",
       "      <th>2</th>\n",
       "      <td>0.364089</td>\n",
       "      <td>0.377277</td>\n",
       "      <td>1.000000</td>\n",
       "      <td>-0.264348</td>\n",
       "      <td>0.022131</td>\n",
       "      <td>-0.059513</td>\n",
       "      <td>0.309016</td>\n",
       "      <td>-0.296789</td>\n",
       "      <td>NaN</td>\n",
       "      <td>0.311181</td>\n",
       "      <td>...</td>\n",
       "      <td>-0.326483</td>\n",
       "      <td>-0.018108</td>\n",
       "      <td>0.250092</td>\n",
       "      <td>-0.076383</td>\n",
       "      <td>NaN</td>\n",
       "      <td>NaN</td>\n",
       "      <td>-0.039321</td>\n",
       "      <td>0.160288</td>\n",
       "      <td>0.039541</td>\n",
       "      <td>0.035145</td>\n",
       "    </tr>\n",
       "    <tr>\n",
       "      <th>3</th>\n",
       "      <td>0.208558</td>\n",
       "      <td>0.208116</td>\n",
       "      <td>-0.264348</td>\n",
       "      <td>1.000000</td>\n",
       "      <td>-0.018283</td>\n",
       "      <td>0.040809</td>\n",
       "      <td>0.251493</td>\n",
       "      <td>-0.267533</td>\n",
       "      <td>NaN</td>\n",
       "      <td>-0.014433</td>\n",
       "      <td>...</td>\n",
       "      <td>-0.000473</td>\n",
       "      <td>0.048548</td>\n",
       "      <td>0.184829</td>\n",
       "      <td>-0.004908</td>\n",
       "      <td>NaN</td>\n",
       "      <td>NaN</td>\n",
       "      <td>0.055600</td>\n",
       "      <td>-0.077064</td>\n",
       "      <td>-0.129103</td>\n",
       "      <td>0.037095</td>\n",
       "    </tr>\n",
       "    <tr>\n",
       "      <th>4</th>\n",
       "      <td>0.306979</td>\n",
       "      <td>0.300334</td>\n",
       "      <td>0.022131</td>\n",
       "      <td>-0.018283</td>\n",
       "      <td>1.000000</td>\n",
       "      <td>-0.008042</td>\n",
       "      <td>0.215789</td>\n",
       "      <td>-0.217013</td>\n",
       "      <td>NaN</td>\n",
       "      <td>0.149058</td>\n",
       "      <td>...</td>\n",
       "      <td>-0.132802</td>\n",
       "      <td>-0.034949</td>\n",
       "      <td>0.190720</td>\n",
       "      <td>-0.033442</td>\n",
       "      <td>NaN</td>\n",
       "      <td>NaN</td>\n",
       "      <td>0.004443</td>\n",
       "      <td>0.055061</td>\n",
       "      <td>-0.026334</td>\n",
       "      <td>0.031683</td>\n",
       "    </tr>\n",
       "    <tr>\n",
       "      <th>5</th>\n",
       "      <td>0.072833</td>\n",
       "      <td>0.053413</td>\n",
       "      <td>-0.059513</td>\n",
       "      <td>0.040809</td>\n",
       "      <td>-0.008042</td>\n",
       "      <td>1.000000</td>\n",
       "      <td>-0.199518</td>\n",
       "      <td>-0.088411</td>\n",
       "      <td>NaN</td>\n",
       "      <td>0.001094</td>\n",
       "      <td>...</td>\n",
       "      <td>-0.094336</td>\n",
       "      <td>0.289998</td>\n",
       "      <td>0.548015</td>\n",
       "      <td>0.114506</td>\n",
       "      <td>NaN</td>\n",
       "      <td>NaN</td>\n",
       "      <td>0.023896</td>\n",
       "      <td>-0.009295</td>\n",
       "      <td>0.002800</td>\n",
       "      <td>0.071270</td>\n",
       "    </tr>\n",
       "    <tr>\n",
       "      <th>6</th>\n",
       "      <td>0.511503</td>\n",
       "      <td>0.546522</td>\n",
       "      <td>0.309016</td>\n",
       "      <td>0.251493</td>\n",
       "      <td>0.215789</td>\n",
       "      <td>-0.199518</td>\n",
       "      <td>1.000000</td>\n",
       "      <td>-0.958417</td>\n",
       "      <td>NaN</td>\n",
       "      <td>0.312791</td>\n",
       "      <td>...</td>\n",
       "      <td>-0.330522</td>\n",
       "      <td>0.047930</td>\n",
       "      <td>0.315347</td>\n",
       "      <td>-0.091753</td>\n",
       "      <td>NaN</td>\n",
       "      <td>NaN</td>\n",
       "      <td>0.106974</td>\n",
       "      <td>0.154920</td>\n",
       "      <td>-0.091359</td>\n",
       "      <td>0.044723</td>\n",
       "    </tr>\n",
       "    <tr>\n",
       "      <th>7</th>\n",
       "      <td>-0.541165</td>\n",
       "      <td>-0.571107</td>\n",
       "      <td>-0.296789</td>\n",
       "      <td>-0.267533</td>\n",
       "      <td>-0.217013</td>\n",
       "      <td>-0.088411</td>\n",
       "      <td>-0.958417</td>\n",
       "      <td>1.000000</td>\n",
       "      <td>NaN</td>\n",
       "      <td>-0.318278</td>\n",
       "      <td>...</td>\n",
       "      <td>0.363456</td>\n",
       "      <td>-0.133177</td>\n",
       "      <td>-0.480153</td>\n",
       "      <td>0.059922</td>\n",
       "      <td>NaN</td>\n",
       "      <td>NaN</td>\n",
       "      <td>-0.115701</td>\n",
       "      <td>-0.154772</td>\n",
       "      <td>0.092053</td>\n",
       "      <td>-0.066218</td>\n",
       "    </tr>\n",
       "    <tr>\n",
       "      <th>8</th>\n",
       "      <td>NaN</td>\n",
       "      <td>NaN</td>\n",
       "      <td>NaN</td>\n",
       "      <td>NaN</td>\n",
       "      <td>NaN</td>\n",
       "      <td>NaN</td>\n",
       "      <td>NaN</td>\n",
       "      <td>NaN</td>\n",
       "      <td>NaN</td>\n",
       "      <td>NaN</td>\n",
       "      <td>...</td>\n",
       "      <td>NaN</td>\n",
       "      <td>NaN</td>\n",
       "      <td>NaN</td>\n",
       "      <td>NaN</td>\n",
       "      <td>NaN</td>\n",
       "      <td>NaN</td>\n",
       "      <td>NaN</td>\n",
       "      <td>NaN</td>\n",
       "      <td>NaN</td>\n",
       "      <td>NaN</td>\n",
       "    </tr>\n",
       "    <tr>\n",
       "      <th>9</th>\n",
       "      <td>0.526638</td>\n",
       "      <td>0.532664</td>\n",
       "      <td>0.311181</td>\n",
       "      <td>-0.014433</td>\n",
       "      <td>0.149058</td>\n",
       "      <td>0.001094</td>\n",
       "      <td>0.312791</td>\n",
       "      <td>-0.318278</td>\n",
       "      <td>NaN</td>\n",
       "      <td>1.000000</td>\n",
       "      <td>...</td>\n",
       "      <td>-0.860418</td>\n",
       "      <td>-0.084649</td>\n",
       "      <td>0.371943</td>\n",
       "      <td>-0.058570</td>\n",
       "      <td>NaN</td>\n",
       "      <td>NaN</td>\n",
       "      <td>0.000356</td>\n",
       "      <td>0.209045</td>\n",
       "      <td>0.051779</td>\n",
       "      <td>0.131666</td>\n",
       "    </tr>\n",
       "    <tr>\n",
       "      <th>10</th>\n",
       "      <td>0.022250</td>\n",
       "      <td>0.019202</td>\n",
       "      <td>0.034656</td>\n",
       "      <td>0.050655</td>\n",
       "      <td>-0.017780</td>\n",
       "      <td>0.189268</td>\n",
       "      <td>0.046821</td>\n",
       "      <td>-0.102714</td>\n",
       "      <td>NaN</td>\n",
       "      <td>-0.189205</td>\n",
       "      <td>...</td>\n",
       "      <td>-0.315644</td>\n",
       "      <td>0.217143</td>\n",
       "      <td>0.176039</td>\n",
       "      <td>-0.022065</td>\n",
       "      <td>NaN</td>\n",
       "      <td>NaN</td>\n",
       "      <td>0.013091</td>\n",
       "      <td>0.017231</td>\n",
       "      <td>0.034305</td>\n",
       "      <td>0.051234</td>\n",
       "    </tr>\n",
       "    <tr>\n",
       "      <th>11</th>\n",
       "      <td>-0.003947</td>\n",
       "      <td>-0.016174</td>\n",
       "      <td>0.063031</td>\n",
       "      <td>-0.073514</td>\n",
       "      <td>-0.012396</td>\n",
       "      <td>-0.010034</td>\n",
       "      <td>0.038931</td>\n",
       "      <td>-0.036652</td>\n",
       "      <td>NaN</td>\n",
       "      <td>-0.053119</td>\n",
       "      <td>...</td>\n",
       "      <td>-0.088617</td>\n",
       "      <td>0.006548</td>\n",
       "      <td>-0.015854</td>\n",
       "      <td>-0.012625</td>\n",
       "      <td>NaN</td>\n",
       "      <td>NaN</td>\n",
       "      <td>-0.013671</td>\n",
       "      <td>0.046977</td>\n",
       "      <td>0.026754</td>\n",
       "      <td>-0.007103</td>\n",
       "    </tr>\n",
       "    <tr>\n",
       "      <th>12</th>\n",
       "      <td>-0.517764</td>\n",
       "      <td>-0.520213</td>\n",
       "      <td>-0.326483</td>\n",
       "      <td>-0.000473</td>\n",
       "      <td>-0.132802</td>\n",
       "      <td>-0.094336</td>\n",
       "      <td>-0.330522</td>\n",
       "      <td>0.363456</td>\n",
       "      <td>NaN</td>\n",
       "      <td>-0.860418</td>\n",
       "      <td>...</td>\n",
       "      <td>1.000000</td>\n",
       "      <td>-0.028194</td>\n",
       "      <td>-0.444009</td>\n",
       "      <td>0.069347</td>\n",
       "      <td>NaN</td>\n",
       "      <td>NaN</td>\n",
       "      <td>-0.004854</td>\n",
       "      <td>-0.216987</td>\n",
       "      <td>-0.071049</td>\n",
       "      <td>-0.151404</td>\n",
       "    </tr>\n",
       "    <tr>\n",
       "      <th>13</th>\n",
       "      <td>0.053329</td>\n",
       "      <td>0.043217</td>\n",
       "      <td>-0.018108</td>\n",
       "      <td>0.048548</td>\n",
       "      <td>-0.034949</td>\n",
       "      <td>0.289998</td>\n",
       "      <td>0.047930</td>\n",
       "      <td>-0.133177</td>\n",
       "      <td>NaN</td>\n",
       "      <td>-0.084649</td>\n",
       "      <td>...</td>\n",
       "      <td>-0.028194</td>\n",
       "      <td>1.000000</td>\n",
       "      <td>0.366449</td>\n",
       "      <td>-0.054783</td>\n",
       "      <td>NaN</td>\n",
       "      <td>NaN</td>\n",
       "      <td>0.039276</td>\n",
       "      <td>0.000063</td>\n",
       "      <td>-0.084569</td>\n",
       "      <td>0.022011</td>\n",
       "    </tr>\n",
       "    <tr>\n",
       "      <th>14</th>\n",
       "      <td>0.721336</td>\n",
       "      <td>0.743301</td>\n",
       "      <td>0.250092</td>\n",
       "      <td>0.184829</td>\n",
       "      <td>0.190720</td>\n",
       "      <td>0.548015</td>\n",
       "      <td>0.315347</td>\n",
       "      <td>-0.480153</td>\n",
       "      <td>NaN</td>\n",
       "      <td>0.371943</td>\n",
       "      <td>...</td>\n",
       "      <td>-0.444009</td>\n",
       "      <td>0.366449</td>\n",
       "      <td>1.000000</td>\n",
       "      <td>-0.059805</td>\n",
       "      <td>NaN</td>\n",
       "      <td>NaN</td>\n",
       "      <td>0.117952</td>\n",
       "      <td>0.126432</td>\n",
       "      <td>-0.085183</td>\n",
       "      <td>0.136041</td>\n",
       "    </tr>\n",
       "    <tr>\n",
       "      <th>15</th>\n",
       "      <td>-0.074074</td>\n",
       "      <td>0.011915</td>\n",
       "      <td>-0.076383</td>\n",
       "      <td>-0.004908</td>\n",
       "      <td>-0.033442</td>\n",
       "      <td>0.114506</td>\n",
       "      <td>-0.091753</td>\n",
       "      <td>0.059922</td>\n",
       "      <td>NaN</td>\n",
       "      <td>-0.058570</td>\n",
       "      <td>...</td>\n",
       "      <td>0.069347</td>\n",
       "      <td>-0.054783</td>\n",
       "      <td>-0.059805</td>\n",
       "      <td>1.000000</td>\n",
       "      <td>NaN</td>\n",
       "      <td>NaN</td>\n",
       "      <td>0.043431</td>\n",
       "      <td>-0.178577</td>\n",
       "      <td>-0.282670</td>\n",
       "      <td>0.159056</td>\n",
       "    </tr>\n",
       "    <tr>\n",
       "      <th>16</th>\n",
       "      <td>NaN</td>\n",
       "      <td>NaN</td>\n",
       "      <td>NaN</td>\n",
       "      <td>NaN</td>\n",
       "      <td>NaN</td>\n",
       "      <td>NaN</td>\n",
       "      <td>NaN</td>\n",
       "      <td>NaN</td>\n",
       "      <td>NaN</td>\n",
       "      <td>NaN</td>\n",
       "      <td>...</td>\n",
       "      <td>NaN</td>\n",
       "      <td>NaN</td>\n",
       "      <td>NaN</td>\n",
       "      <td>NaN</td>\n",
       "      <td>NaN</td>\n",
       "      <td>NaN</td>\n",
       "      <td>NaN</td>\n",
       "      <td>NaN</td>\n",
       "      <td>NaN</td>\n",
       "      <td>NaN</td>\n",
       "    </tr>\n",
       "    <tr>\n",
       "      <th>17</th>\n",
       "      <td>NaN</td>\n",
       "      <td>NaN</td>\n",
       "      <td>NaN</td>\n",
       "      <td>NaN</td>\n",
       "      <td>NaN</td>\n",
       "      <td>NaN</td>\n",
       "      <td>NaN</td>\n",
       "      <td>NaN</td>\n",
       "      <td>NaN</td>\n",
       "      <td>NaN</td>\n",
       "      <td>...</td>\n",
       "      <td>NaN</td>\n",
       "      <td>NaN</td>\n",
       "      <td>NaN</td>\n",
       "      <td>NaN</td>\n",
       "      <td>NaN</td>\n",
       "      <td>NaN</td>\n",
       "      <td>NaN</td>\n",
       "      <td>NaN</td>\n",
       "      <td>NaN</td>\n",
       "      <td>NaN</td>\n",
       "    </tr>\n",
       "    <tr>\n",
       "      <th>18</th>\n",
       "      <td>0.067747</td>\n",
       "      <td>0.106953</td>\n",
       "      <td>-0.039321</td>\n",
       "      <td>0.055600</td>\n",
       "      <td>0.004443</td>\n",
       "      <td>0.023896</td>\n",
       "      <td>0.106974</td>\n",
       "      <td>-0.115701</td>\n",
       "      <td>NaN</td>\n",
       "      <td>0.000356</td>\n",
       "      <td>...</td>\n",
       "      <td>-0.004854</td>\n",
       "      <td>0.039276</td>\n",
       "      <td>0.117952</td>\n",
       "      <td>0.043431</td>\n",
       "      <td>NaN</td>\n",
       "      <td>NaN</td>\n",
       "      <td>1.000000</td>\n",
       "      <td>-0.052753</td>\n",
       "      <td>-0.283984</td>\n",
       "      <td>0.050510</td>\n",
       "    </tr>\n",
       "    <tr>\n",
       "      <th>19</th>\n",
       "      <td>0.215226</td>\n",
       "      <td>0.154213</td>\n",
       "      <td>0.160288</td>\n",
       "      <td>-0.077064</td>\n",
       "      <td>0.055061</td>\n",
       "      <td>-0.009295</td>\n",
       "      <td>0.154920</td>\n",
       "      <td>-0.154772</td>\n",
       "      <td>NaN</td>\n",
       "      <td>0.209045</td>\n",
       "      <td>...</td>\n",
       "      <td>-0.216987</td>\n",
       "      <td>0.000063</td>\n",
       "      <td>0.126432</td>\n",
       "      <td>-0.178577</td>\n",
       "      <td>NaN</td>\n",
       "      <td>NaN</td>\n",
       "      <td>-0.052753</td>\n",
       "      <td>1.000000</td>\n",
       "      <td>0.462612</td>\n",
       "      <td>-0.001352</td>\n",
       "    </tr>\n",
       "    <tr>\n",
       "      <th>20</th>\n",
       "      <td>-0.027963</td>\n",
       "      <td>-0.136537</td>\n",
       "      <td>0.039541</td>\n",
       "      <td>-0.129103</td>\n",
       "      <td>-0.026334</td>\n",
       "      <td>0.002800</td>\n",
       "      <td>-0.091359</td>\n",
       "      <td>0.092053</td>\n",
       "      <td>NaN</td>\n",
       "      <td>0.051779</td>\n",
       "      <td>...</td>\n",
       "      <td>-0.071049</td>\n",
       "      <td>-0.084569</td>\n",
       "      <td>-0.085183</td>\n",
       "      <td>-0.282670</td>\n",
       "      <td>NaN</td>\n",
       "      <td>NaN</td>\n",
       "      <td>-0.283984</td>\n",
       "      <td>0.462612</td>\n",
       "      <td>1.000000</td>\n",
       "      <td>-0.049895</td>\n",
       "    </tr>\n",
       "    <tr>\n",
       "      <th>21</th>\n",
       "      <td>0.144034</td>\n",
       "      <td>0.159488</td>\n",
       "      <td>0.035145</td>\n",
       "      <td>0.037095</td>\n",
       "      <td>0.031683</td>\n",
       "      <td>0.071270</td>\n",
       "      <td>0.044723</td>\n",
       "      <td>-0.066218</td>\n",
       "      <td>NaN</td>\n",
       "      <td>0.131666</td>\n",
       "      <td>...</td>\n",
       "      <td>-0.151404</td>\n",
       "      <td>0.022011</td>\n",
       "      <td>0.136041</td>\n",
       "      <td>0.159056</td>\n",
       "      <td>NaN</td>\n",
       "      <td>NaN</td>\n",
       "      <td>0.050510</td>\n",
       "      <td>-0.001352</td>\n",
       "      <td>-0.049895</td>\n",
       "      <td>1.000000</td>\n",
       "    </tr>\n",
       "  </tbody>\n",
       "</table>\n",
       "<p>22 rows × 22 columns</p>\n",
       "</div>"
      ],
      "text/plain": [
       "          0         1         2         3         4         5         6   \\\n",
       "0   1.000000  0.930854  0.364089  0.208558  0.306979  0.072833  0.511503   \n",
       "1   0.930854  1.000000  0.377277  0.208116  0.300334  0.053413  0.546522   \n",
       "2   0.364089  0.377277  1.000000 -0.264348  0.022131 -0.059513  0.309016   \n",
       "3   0.208558  0.208116 -0.264348  1.000000 -0.018283  0.040809  0.251493   \n",
       "4   0.306979  0.300334  0.022131 -0.018283  1.000000 -0.008042  0.215789   \n",
       "5   0.072833  0.053413 -0.059513  0.040809 -0.008042  1.000000 -0.199518   \n",
       "6   0.511503  0.546522  0.309016  0.251493  0.215789 -0.199518  1.000000   \n",
       "7  -0.541165 -0.571107 -0.296789 -0.267533 -0.217013 -0.088411 -0.958417   \n",
       "8        NaN       NaN       NaN       NaN       NaN       NaN       NaN   \n",
       "9   0.526638  0.532664  0.311181 -0.014433  0.149058  0.001094  0.312791   \n",
       "10  0.022250  0.019202  0.034656  0.050655 -0.017780  0.189268  0.046821   \n",
       "11 -0.003947 -0.016174  0.063031 -0.073514 -0.012396 -0.010034  0.038931   \n",
       "12 -0.517764 -0.520213 -0.326483 -0.000473 -0.132802 -0.094336 -0.330522   \n",
       "13  0.053329  0.043217 -0.018108  0.048548 -0.034949  0.289998  0.047930   \n",
       "14  0.721336  0.743301  0.250092  0.184829  0.190720  0.548015  0.315347   \n",
       "15 -0.074074  0.011915 -0.076383 -0.004908 -0.033442  0.114506 -0.091753   \n",
       "16       NaN       NaN       NaN       NaN       NaN       NaN       NaN   \n",
       "17       NaN       NaN       NaN       NaN       NaN       NaN       NaN   \n",
       "18  0.067747  0.106953 -0.039321  0.055600  0.004443  0.023896  0.106974   \n",
       "19  0.215226  0.154213  0.160288 -0.077064  0.055061 -0.009295  0.154920   \n",
       "20 -0.027963 -0.136537  0.039541 -0.129103 -0.026334  0.002800 -0.091359   \n",
       "21  0.144034  0.159488  0.035145  0.037095  0.031683  0.071270  0.044723   \n",
       "\n",
       "          7   8         9   ...        12        13        14        15  16  \\\n",
       "0  -0.541165 NaN  0.526638  ... -0.517764  0.053329  0.721336 -0.074074 NaN   \n",
       "1  -0.571107 NaN  0.532664  ... -0.520213  0.043217  0.743301  0.011915 NaN   \n",
       "2  -0.296789 NaN  0.311181  ... -0.326483 -0.018108  0.250092 -0.076383 NaN   \n",
       "3  -0.267533 NaN -0.014433  ... -0.000473  0.048548  0.184829 -0.004908 NaN   \n",
       "4  -0.217013 NaN  0.149058  ... -0.132802 -0.034949  0.190720 -0.033442 NaN   \n",
       "5  -0.088411 NaN  0.001094  ... -0.094336  0.289998  0.548015  0.114506 NaN   \n",
       "6  -0.958417 NaN  0.312791  ... -0.330522  0.047930  0.315347 -0.091753 NaN   \n",
       "7   1.000000 NaN -0.318278  ...  0.363456 -0.133177 -0.480153  0.059922 NaN   \n",
       "8        NaN NaN       NaN  ...       NaN       NaN       NaN       NaN NaN   \n",
       "9  -0.318278 NaN  1.000000  ... -0.860418 -0.084649  0.371943 -0.058570 NaN   \n",
       "10 -0.102714 NaN -0.189205  ... -0.315644  0.217143  0.176039 -0.022065 NaN   \n",
       "11 -0.036652 NaN -0.053119  ... -0.088617  0.006548 -0.015854 -0.012625 NaN   \n",
       "12  0.363456 NaN -0.860418  ...  1.000000 -0.028194 -0.444009  0.069347 NaN   \n",
       "13 -0.133177 NaN -0.084649  ... -0.028194  1.000000  0.366449 -0.054783 NaN   \n",
       "14 -0.480153 NaN  0.371943  ... -0.444009  0.366449  1.000000 -0.059805 NaN   \n",
       "15  0.059922 NaN -0.058570  ...  0.069347 -0.054783 -0.059805  1.000000 NaN   \n",
       "16       NaN NaN       NaN  ...       NaN       NaN       NaN       NaN NaN   \n",
       "17       NaN NaN       NaN  ...       NaN       NaN       NaN       NaN NaN   \n",
       "18 -0.115701 NaN  0.000356  ... -0.004854  0.039276  0.117952  0.043431 NaN   \n",
       "19 -0.154772 NaN  0.209045  ... -0.216987  0.000063  0.126432 -0.178577 NaN   \n",
       "20  0.092053 NaN  0.051779  ... -0.071049 -0.084569 -0.085183 -0.282670 NaN   \n",
       "21 -0.066218 NaN  0.131666  ... -0.151404  0.022011  0.136041  0.159056 NaN   \n",
       "\n",
       "    17        18        19        20        21  \n",
       "0  NaN  0.067747  0.215226 -0.027963  0.144034  \n",
       "1  NaN  0.106953  0.154213 -0.136537  0.159488  \n",
       "2  NaN -0.039321  0.160288  0.039541  0.035145  \n",
       "3  NaN  0.055600 -0.077064 -0.129103  0.037095  \n",
       "4  NaN  0.004443  0.055061 -0.026334  0.031683  \n",
       "5  NaN  0.023896 -0.009295  0.002800  0.071270  \n",
       "6  NaN  0.106974  0.154920 -0.091359  0.044723  \n",
       "7  NaN -0.115701 -0.154772  0.092053 -0.066218  \n",
       "8  NaN       NaN       NaN       NaN       NaN  \n",
       "9  NaN  0.000356  0.209045  0.051779  0.131666  \n",
       "10 NaN  0.013091  0.017231  0.034305  0.051234  \n",
       "11 NaN -0.013671  0.046977  0.026754 -0.007103  \n",
       "12 NaN -0.004854 -0.216987 -0.071049 -0.151404  \n",
       "13 NaN  0.039276  0.000063 -0.084569  0.022011  \n",
       "14 NaN  0.117952  0.126432 -0.085183  0.136041  \n",
       "15 NaN  0.043431 -0.178577 -0.282670  0.159056  \n",
       "16 NaN       NaN       NaN       NaN       NaN  \n",
       "17 NaN       NaN       NaN       NaN       NaN  \n",
       "18 NaN  1.000000 -0.052753 -0.283984  0.050510  \n",
       "19 NaN -0.052753  1.000000  0.462612 -0.001352  \n",
       "20 NaN -0.283984  0.462612  1.000000 -0.049895  \n",
       "21 NaN  0.050510 -0.001352 -0.049895  1.000000  \n",
       "\n",
       "[22 rows x 22 columns]"
      ]
     },
     "execution_count": 84,
     "metadata": {},
     "output_type": "execute_result"
    }
   ],
   "source": [
    "import numpy as np\n",
    "import pandas as pd\n",
    "train = pd.read_csv(\"C:\\\\project\\\\MethodPrediction_All_ID\\\\process_data\\\\nameConvetionF\\\\beam_G1.csv\",header=None, skiprows=1)\n",
    "# train = pd.read_csv(\"C:\\\\project\\\\IdentifierStyle\\\\data\\\\VersionDB\\prepocessed_data_extend\\\\numericData\\\\beam_G2_method_2.csv\",header=None)\n",
    "\n",
    "train.head()\n",
    "import seaborn as sns\n",
    "import pandas as pd\n",
    "corrmat = train.corr() ##corrmat是相关性矩阵\n",
    "corrmat\n"
   ]
  },
  {
   "cell_type": "code",
   "execution_count": 85,
   "metadata": {},
   "outputs": [
    {
     "data": {
      "text/plain": [
       "<AxesSubplot:>"
      ]
     },
     "execution_count": 85,
     "metadata": {},
     "output_type": "execute_result"
    },
    {
     "data": {
      "image/png": "[encoded data removed]",
      "text/plain": [
       "<Figure size 864x648 with 2 Axes>"
      ]
     },
     "metadata": {},
     "output_type": "display_data"
    }
   ],
   "source": [
    "\n",
    "import matplotlib.pyplot as plt\n",
    "f, ax = plt.subplots(figsize=(12, 9))\n",
    "sns.heatmap(corrmat, vmax=.8, square=True) \n"
   ]
  },
  {
   "cell_type": "code",
   "execution_count": 89,
   "metadata": {},
   "outputs": [],
   "source": [
    "#选出前10个与房价强相关的变量\n",
    "#k 第k个\n",
    "#4是总的特征数\n",
    "\n",
    "k=10\n",
    "cols = corrmat.nlargest(k,21)[21].index\n",
    "cols\n",
    "train=train[cols]\n",
    "# # train.head()"
   ]
  },
  {
   "cell_type": "code",
   "execution_count": 90,
   "metadata": {},
   "outputs": [
    {
     "data": {
      "text/html": [
       "<div>\n",
       "<style scoped>\n",
       "    .dataframe tbody tr th:only-of-type {\n",
       "        vertical-align: middle;\n",
       "    }\n",
       "\n",
       "    .dataframe tbody tr th {\n",
       "        vertical-align: top;\n",
       "    }\n",
       "\n",
       "    .dataframe thead th {\n",
       "        text-align: right;\n",
       "    }\n",
       "</style>\n",
       "<table border=\"1\" class=\"dataframe\">\n",
       "  <thead>\n",
       "    <tr style=\"text-align: right;\">\n",
       "      <th></th>\n",
       "      <th>21</th>\n",
       "      <th>1</th>\n",
       "      <th>15</th>\n",
       "      <th>0</th>\n",
       "      <th>14</th>\n",
       "      <th>9</th>\n",
       "      <th>5</th>\n",
       "      <th>10</th>\n",
       "      <th>18</th>\n",
       "      <th>6</th>\n",
       "    </tr>\n",
       "  </thead>\n",
       "  <tbody>\n",
       "    <tr>\n",
       "      <th>21</th>\n",
       "      <td>1.000000</td>\n",
       "      <td>0.159488</td>\n",
       "      <td>0.159056</td>\n",
       "      <td>0.144034</td>\n",
       "      <td>0.136041</td>\n",
       "      <td>0.131666</td>\n",
       "      <td>0.071270</td>\n",
       "      <td>0.051234</td>\n",
       "      <td>0.050510</td>\n",
       "      <td>0.044723</td>\n",
       "    </tr>\n",
       "    <tr>\n",
       "      <th>1</th>\n",
       "      <td>0.159488</td>\n",
       "      <td>1.000000</td>\n",
       "      <td>0.011915</td>\n",
       "      <td>0.930854</td>\n",
       "      <td>0.743301</td>\n",
       "      <td>0.532664</td>\n",
       "      <td>0.053413</td>\n",
       "      <td>0.019202</td>\n",
       "      <td>0.106953</td>\n",
       "      <td>0.546522</td>\n",
       "    </tr>\n",
       "    <tr>\n",
       "      <th>15</th>\n",
       "      <td>0.159056</td>\n",
       "      <td>0.011915</td>\n",
       "      <td>1.000000</td>\n",
       "      <td>-0.074074</td>\n",
       "      <td>-0.059805</td>\n",
       "      <td>-0.058570</td>\n",
       "      <td>0.114506</td>\n",
       "      <td>-0.022065</td>\n",
       "      <td>0.043431</td>\n",
       "      <td>-0.091753</td>\n",
       "    </tr>\n",
       "    <tr>\n",
       "      <th>0</th>\n",
       "      <td>0.144034</td>\n",
       "      <td>0.930854</td>\n",
       "      <td>-0.074074</td>\n",
       "      <td>1.000000</td>\n",
       "      <td>0.721336</td>\n",
       "      <td>0.526638</td>\n",
       "      <td>0.072833</td>\n",
       "      <td>0.022250</td>\n",
       "      <td>0.067747</td>\n",
       "      <td>0.511503</td>\n",
       "    </tr>\n",
       "    <tr>\n",
       "      <th>14</th>\n",
       "      <td>0.136041</td>\n",
       "      <td>0.743301</td>\n",
       "      <td>-0.059805</td>\n",
       "      <td>0.721336</td>\n",
       "      <td>1.000000</td>\n",
       "      <td>0.371943</td>\n",
       "      <td>0.548015</td>\n",
       "      <td>0.176039</td>\n",
       "      <td>0.117952</td>\n",
       "      <td>0.315347</td>\n",
       "    </tr>\n",
       "    <tr>\n",
       "      <th>9</th>\n",
       "      <td>0.131666</td>\n",
       "      <td>0.532664</td>\n",
       "      <td>-0.058570</td>\n",
       "      <td>0.526638</td>\n",
       "      <td>0.371943</td>\n",
       "      <td>1.000000</td>\n",
       "      <td>0.001094</td>\n",
       "      <td>-0.189205</td>\n",
       "      <td>0.000356</td>\n",
       "      <td>0.312791</td>\n",
       "    </tr>\n",
       "    <tr>\n",
       "      <th>5</th>\n",
       "      <td>0.071270</td>\n",
       "      <td>0.053413</td>\n",
       "      <td>0.114506</td>\n",
       "      <td>0.072833</td>\n",
       "      <td>0.548015</td>\n",
       "      <td>0.001094</td>\n",
       "      <td>1.000000</td>\n",
       "      <td>0.189268</td>\n",
       "      <td>0.023896</td>\n",
       "      <td>-0.199518</td>\n",
       "    </tr>\n",
       "    <tr>\n",
       "      <th>10</th>\n",
       "      <td>0.051234</td>\n",
       "      <td>0.019202</td>\n",
       "      <td>-0.022065</td>\n",
       "      <td>0.022250</td>\n",
       "      <td>0.176039</td>\n",
       "      <td>-0.189205</td>\n",
       "      <td>0.189268</td>\n",
       "      <td>1.000000</td>\n",
       "      <td>0.013091</td>\n",
       "      <td>0.046821</td>\n",
       "    </tr>\n",
       "    <tr>\n",
       "      <th>18</th>\n",
       "      <td>0.050510</td>\n",
       "      <td>0.106953</td>\n",
       "      <td>0.043431</td>\n",
       "      <td>0.067747</td>\n",
       "      <td>0.117952</td>\n",
       "      <td>0.000356</td>\n",
       "      <td>0.023896</td>\n",
       "      <td>0.013091</td>\n",
       "      <td>1.000000</td>\n",
       "      <td>0.106974</td>\n",
       "    </tr>\n",
       "    <tr>\n",
       "      <th>6</th>\n",
       "      <td>0.044723</td>\n",
       "      <td>0.546522</td>\n",
       "      <td>-0.091753</td>\n",
       "      <td>0.511503</td>\n",
       "      <td>0.315347</td>\n",
       "      <td>0.312791</td>\n",
       "      <td>-0.199518</td>\n",
       "      <td>0.046821</td>\n",
       "      <td>0.106974</td>\n",
       "      <td>1.000000</td>\n",
       "    </tr>\n",
       "  </tbody>\n",
       "</table>\n",
       "</div>"
      ],
      "text/plain": [
       "          21        1         15        0         14        9         5   \\\n",
       "21  1.000000  0.159488  0.159056  0.144034  0.136041  0.131666  0.071270   \n",
       "1   0.159488  1.000000  0.011915  0.930854  0.743301  0.532664  0.053413   \n",
       "15  0.159056  0.011915  1.000000 -0.074074 -0.059805 -0.058570  0.114506   \n",
       "0   0.144034  0.930854 -0.074074  1.000000  0.721336  0.526638  0.072833   \n",
       "14  0.136041  0.743301 -0.059805  0.721336  1.000000  0.371943  0.548015   \n",
       "9   0.131666  0.532664 -0.058570  0.526638  0.371943  1.000000  0.001094   \n",
       "5   0.071270  0.053413  0.114506  0.072833  0.548015  0.001094  1.000000   \n",
       "10  0.051234  0.019202 -0.022065  0.022250  0.176039 -0.189205  0.189268   \n",
       "18  0.050510  0.106953  0.043431  0.067747  0.117952  0.000356  0.023896   \n",
       "6   0.044723  0.546522 -0.091753  0.511503  0.315347  0.312791 -0.199518   \n",
       "\n",
       "          10        18        6   \n",
       "21  0.051234  0.050510  0.044723  \n",
       "1   0.019202  0.106953  0.546522  \n",
       "15 -0.022065  0.043431 -0.091753  \n",
       "0   0.022250  0.067747  0.511503  \n",
       "14  0.176039  0.117952  0.315347  \n",
       "9  -0.189205  0.000356  0.312791  \n",
       "5   0.189268  0.023896 -0.199518  \n",
       "10  1.000000  0.013091  0.046821  \n",
       "18  0.013091  1.000000  0.106974  \n",
       "6   0.046821  0.106974  1.000000  "
      ]
     },
     "execution_count": 90,
     "metadata": {},
     "output_type": "execute_result"
    }
   ],
   "source": [
    "#查看10个变量的相关系数\n",
    "cols_cor = train[cols].corr()\n",
    "cols_cor"
   ]
  },
  {
   "cell_type": "code",
   "execution_count": 91,
   "metadata": {},
   "outputs": [
    {
     "data": {
      "text/plain": [
       "<AxesSubplot:>"
      ]
     },
     "execution_count": 91,
     "metadata": {},
     "output_type": "execute_result"
    },
    {
     "data": {
      "image/png": "[encoded data removed]",
      "text/plain": [
       "<Figure size 432x288 with 2 Axes>"
      ]
     },
     "metadata": {},
     "output_type": "display_data"
    }
   ],
   "source": [
    "#绘制热力图\n",
    "sns.set(font_scale=1.25)\n",
    "sns.heatmap(cols_cor, vmax=.8, cbar=True, annot=True, square=True, fmt='.2f', annot_kws={'size': 10})"
   ]
  },
  {
   "cell_type": "code",
   "execution_count": 92,
   "metadata": {},
   "outputs": [],
   "source": [
    "\n",
    "train.to_csv(\"C:\\\\project\\\\MethodPrediction_All_ID\\\\process_data\\\\nameConvetionF\\\\beam_G1_refine_10.csv\")"
   ]
  },
  {
   "cell_type": "code",
   "execution_count": 57,
   "metadata": {
    "pycharm": {
     "name": "#%%\n"
    }
   },
   "outputs": [
    {
     "data": {
      "text/html": [
       "<div>\n",
       "<style scoped>\n",
       "    .dataframe tbody tr th:only-of-type {\n",
       "        vertical-align: middle;\n",
       "    }\n",
       "\n",
       "    .dataframe tbody tr th {\n",
       "        vertical-align: top;\n",
       "    }\n",
       "\n",
       "    .dataframe thead th {\n",
       "        text-align: right;\n",
       "    }\n",
       "</style>\n",
       "<table border=\"1\" class=\"dataframe\">\n",
       "  <thead>\n",
       "    <tr style=\"text-align: right;\">\n",
       "      <th></th>\n",
       "      <th>0</th>\n",
       "      <th>1</th>\n",
       "      <th>2</th>\n",
       "      <th>3</th>\n",
       "      <th>4</th>\n",
       "      <th>5</th>\n",
       "      <th>6</th>\n",
       "      <th>7</th>\n",
       "      <th>9</th>\n",
       "      <th>10</th>\n",
       "      <th>11</th>\n",
       "      <th>12</th>\n",
       "      <th>13</th>\n",
       "      <th>14</th>\n",
       "      <th>15</th>\n",
       "      <th>18</th>\n",
       "      <th>19</th>\n",
       "      <th>20</th>\n",
       "      <th>21</th>\n",
       "    </tr>\n",
       "  </thead>\n",
       "  <tbody>\n",
       "    <tr>\n",
       "      <th>0</th>\n",
       "      <td>7</td>\n",
       "      <td>2</td>\n",
       "      <td>0</td>\n",
       "      <td>1</td>\n",
       "      <td>1</td>\n",
       "      <td>0</td>\n",
       "      <td>0</td>\n",
       "      <td>1</td>\n",
       "      <td>0</td>\n",
       "      <td>0</td>\n",
       "      <td>0</td>\n",
       "      <td>1</td>\n",
       "      <td>0</td>\n",
       "      <td>0</td>\n",
       "      <td>0</td>\n",
       "      <td>0</td>\n",
       "      <td>1.000000</td>\n",
       "      <td>1</td>\n",
       "      <td>label_class</td>\n",
       "    </tr>\n",
       "    <tr>\n",
       "      <th>1</th>\n",
       "      <td>16</td>\n",
       "      <td>3</td>\n",
       "      <td>0</td>\n",
       "      <td>1</td>\n",
       "      <td>0</td>\n",
       "      <td>0</td>\n",
       "      <td>1</td>\n",
       "      <td>0</td>\n",
       "      <td>1</td>\n",
       "      <td>0</td>\n",
       "      <td>0</td>\n",
       "      <td>0</td>\n",
       "      <td>0</td>\n",
       "      <td>2</td>\n",
       "      <td>0</td>\n",
       "      <td>0</td>\n",
       "      <td>0.333333</td>\n",
       "      <td>0</td>\n",
       "      <td>1</td>\n",
       "    </tr>\n",
       "    <tr>\n",
       "      <th>2</th>\n",
       "      <td>21</td>\n",
       "      <td>4</td>\n",
       "      <td>1</td>\n",
       "      <td>1</td>\n",
       "      <td>0</td>\n",
       "      <td>0</td>\n",
       "      <td>1</td>\n",
       "      <td>0</td>\n",
       "      <td>1</td>\n",
       "      <td>0</td>\n",
       "      <td>0</td>\n",
       "      <td>0</td>\n",
       "      <td>0</td>\n",
       "      <td>3</td>\n",
       "      <td>0</td>\n",
       "      <td>0</td>\n",
       "      <td>0.750000</td>\n",
       "      <td>1</td>\n",
       "      <td>0</td>\n",
       "    </tr>\n",
       "    <tr>\n",
       "      <th>3</th>\n",
       "      <td>11</td>\n",
       "      <td>2</td>\n",
       "      <td>0</td>\n",
       "      <td>1</td>\n",
       "      <td>0</td>\n",
       "      <td>0</td>\n",
       "      <td>1</td>\n",
       "      <td>0</td>\n",
       "      <td>1</td>\n",
       "      <td>0</td>\n",
       "      <td>0</td>\n",
       "      <td>0</td>\n",
       "      <td>0</td>\n",
       "      <td>1</td>\n",
       "      <td>0</td>\n",
       "      <td>0</td>\n",
       "      <td>0.500000</td>\n",
       "      <td>1</td>\n",
       "      <td>0</td>\n",
       "    </tr>\n",
       "    <tr>\n",
       "      <th>4</th>\n",
       "      <td>19</td>\n",
       "      <td>3</td>\n",
       "      <td>1</td>\n",
       "      <td>1</td>\n",
       "      <td>0</td>\n",
       "      <td>0</td>\n",
       "      <td>1</td>\n",
       "      <td>0</td>\n",
       "      <td>1</td>\n",
       "      <td>0</td>\n",
       "      <td>0</td>\n",
       "      <td>0</td>\n",
       "      <td>0</td>\n",
       "      <td>2</td>\n",
       "      <td>0</td>\n",
       "      <td>0</td>\n",
       "      <td>0.666667</td>\n",
       "      <td>1</td>\n",
       "      <td>0</td>\n",
       "    </tr>\n",
       "  </tbody>\n",
       "</table>\n",
       "</div>"
      ],
      "text/plain": [
       "   0   1   2   3   4   5   6   7   9   10  11  12  13  14  15  18        19  \\\n",
       "0   7   2   0   1   1   0   0   1   0   0   0   1   0   0   0   0  1.000000   \n",
       "1  16   3   0   1   0   0   1   0   1   0   0   0   0   2   0   0  0.333333   \n",
       "2  21   4   1   1   0   0   1   0   1   0   0   0   0   3   0   0  0.750000   \n",
       "3  11   2   0   1   0   0   1   0   1   0   0   0   0   1   0   0  0.500000   \n",
       "4  19   3   1   1   0   0   1   0   1   0   0   0   0   2   0   0  0.666667   \n",
       "\n",
       "   20           21  \n",
       "0   1  label_class  \n",
       "1   0            1  \n",
       "2   1            0  \n",
       "3   1            0  \n",
       "4   1            0  "
      ]
     },
     "execution_count": 57,
     "metadata": {},
     "output_type": "execute_result"
    }
   ],
   "source": [
    "train.head()"
   ]
  },
  {
   "cell_type": "code",
   "execution_count": 30,
   "metadata": {},
   "outputs": [
    {
     "ename": "ParserError",
     "evalue": "Error tokenizing data. C error: Expected 8 fields in line 508, saw 10\n",
     "output_type": "error",
     "traceback": [
      "\u001b[1;31m---------------------------------------------------------------------------\u001b[0m",
      "\u001b[1;31mParserError\u001b[0m                               Traceback (most recent call last)",
      "\u001b[1;32m<ipython-input-30-7084ec703960>\u001b[0m in \u001b[0;36m<module>\u001b[1;34m\u001b[0m\n\u001b[0;32m      1\u001b[0m \u001b[1;32mimport\u001b[0m \u001b[0mnumpy\u001b[0m \u001b[1;32mas\u001b[0m \u001b[0mnp\u001b[0m\u001b[1;33m\u001b[0m\u001b[1;33m\u001b[0m\u001b[0m\n\u001b[0;32m      2\u001b[0m \u001b[1;32mimport\u001b[0m \u001b[0mpandas\u001b[0m \u001b[1;32mas\u001b[0m \u001b[0mpd\u001b[0m\u001b[1;33m\u001b[0m\u001b[1;33m\u001b[0m\u001b[0m\n\u001b[1;32m----> 3\u001b[1;33m \u001b[0mtrain\u001b[0m \u001b[1;33m=\u001b[0m \u001b[0mpd\u001b[0m\u001b[1;33m.\u001b[0m\u001b[0mread_csv\u001b[0m\u001b[1;33m(\u001b[0m\u001b[1;34m\"C:\\\\project\\\\MethodPrediction_All_ID\\\\raw_data\\\\context\\\\beam_merge.csv\"\u001b[0m\u001b[1;33m,\u001b[0m\u001b[0mheader\u001b[0m\u001b[1;33m=\u001b[0m\u001b[1;32mNone\u001b[0m\u001b[1;33m)\u001b[0m\u001b[1;33m\u001b[0m\u001b[1;33m\u001b[0m\u001b[0m\n\u001b[0m",
      "\u001b[1;32mc:\\anaconda3\\envs\\tensorflow-gpu0\\lib\\site-packages\\pandas\\io\\parsers.py\u001b[0m in \u001b[0;36mparser_f\u001b[1;34m(filepath_or_buffer, sep, delimiter, header, names, index_col, usecols, squeeze, prefix, mangle_dupe_cols, dtype, engine, converters, true_values, false_values, skipinitialspace, skiprows, skipfooter, nrows, na_values, keep_default_na, na_filter, verbose, skip_blank_lines, parse_dates, infer_datetime_format, keep_date_col, date_parser, dayfirst, iterator, chunksize, compression, thousands, decimal, lineterminator, quotechar, quoting, doublequote, escapechar, comment, encoding, dialect, tupleize_cols, error_bad_lines, warn_bad_lines, delim_whitespace, low_memory, memory_map, float_precision)\u001b[0m\n\u001b[0;32m    700\u001b[0m                     skip_blank_lines=skip_blank_lines)\n\u001b[0;32m    701\u001b[0m \u001b[1;33m\u001b[0m\u001b[0m\n\u001b[1;32m--> 702\u001b[1;33m         \u001b[1;32mreturn\u001b[0m \u001b[0m_read\u001b[0m\u001b[1;33m(\u001b[0m\u001b[0mfilepath_or_buffer\u001b[0m\u001b[1;33m,\u001b[0m \u001b[0mkwds\u001b[0m\u001b[1;33m)\u001b[0m\u001b[1;33m\u001b[0m\u001b[1;33m\u001b[0m\u001b[0m\n\u001b[0m\u001b[0;32m    703\u001b[0m \u001b[1;33m\u001b[0m\u001b[0m\n\u001b[0;32m    704\u001b[0m     \u001b[0mparser_f\u001b[0m\u001b[1;33m.\u001b[0m\u001b[0m__name__\u001b[0m \u001b[1;33m=\u001b[0m \u001b[0mname\u001b[0m\u001b[1;33m\u001b[0m\u001b[1;33m\u001b[0m\u001b[0m\n",
      "\u001b[1;32mc:\\anaconda3\\envs\\tensorflow-gpu0\\lib\\site-packages\\pandas\\io\\parsers.py\u001b[0m in \u001b[0;36m_read\u001b[1;34m(filepath_or_buffer, kwds)\u001b[0m\n\u001b[0;32m    433\u001b[0m \u001b[1;33m\u001b[0m\u001b[0m\n\u001b[0;32m    434\u001b[0m     \u001b[1;32mtry\u001b[0m\u001b[1;33m:\u001b[0m\u001b[1;33m\u001b[0m\u001b[1;33m\u001b[0m\u001b[0m\n\u001b[1;32m--> 435\u001b[1;33m         \u001b[0mdata\u001b[0m \u001b[1;33m=\u001b[0m \u001b[0mparser\u001b[0m\u001b[1;33m.\u001b[0m\u001b[0mread\u001b[0m\u001b[1;33m(\u001b[0m\u001b[0mnrows\u001b[0m\u001b[1;33m)\u001b[0m\u001b[1;33m\u001b[0m\u001b[1;33m\u001b[0m\u001b[0m\n\u001b[0m\u001b[0;32m    436\u001b[0m     \u001b[1;32mfinally\u001b[0m\u001b[1;33m:\u001b[0m\u001b[1;33m\u001b[0m\u001b[1;33m\u001b[0m\u001b[0m\n\u001b[0;32m    437\u001b[0m         \u001b[0mparser\u001b[0m\u001b[1;33m.\u001b[0m\u001b[0mclose\u001b[0m\u001b[1;33m(\u001b[0m\u001b[1;33m)\u001b[0m\u001b[1;33m\u001b[0m\u001b[1;33m\u001b[0m\u001b[0m\n",
      "\u001b[1;32mc:\\anaconda3\\envs\\tensorflow-gpu0\\lib\\site-packages\\pandas\\io\\parsers.py\u001b[0m in \u001b[0;36mread\u001b[1;34m(self, nrows)\u001b[0m\n\u001b[0;32m   1137\u001b[0m     \u001b[1;32mdef\u001b[0m \u001b[0mread\u001b[0m\u001b[1;33m(\u001b[0m\u001b[0mself\u001b[0m\u001b[1;33m,\u001b[0m \u001b[0mnrows\u001b[0m\u001b[1;33m=\u001b[0m\u001b[1;32mNone\u001b[0m\u001b[1;33m)\u001b[0m\u001b[1;33m:\u001b[0m\u001b[1;33m\u001b[0m\u001b[1;33m\u001b[0m\u001b[0m\n\u001b[0;32m   1138\u001b[0m         \u001b[0mnrows\u001b[0m \u001b[1;33m=\u001b[0m \u001b[0m_validate_integer\u001b[0m\u001b[1;33m(\u001b[0m\u001b[1;34m'nrows'\u001b[0m\u001b[1;33m,\u001b[0m \u001b[0mnrows\u001b[0m\u001b[1;33m)\u001b[0m\u001b[1;33m\u001b[0m\u001b[1;33m\u001b[0m\u001b[0m\n\u001b[1;32m-> 1139\u001b[1;33m         \u001b[0mret\u001b[0m \u001b[1;33m=\u001b[0m \u001b[0mself\u001b[0m\u001b[1;33m.\u001b[0m\u001b[0m_engine\u001b[0m\u001b[1;33m.\u001b[0m\u001b[0mread\u001b[0m\u001b[1;33m(\u001b[0m\u001b[0mnrows\u001b[0m\u001b[1;33m)\u001b[0m\u001b[1;33m\u001b[0m\u001b[1;33m\u001b[0m\u001b[0m\n\u001b[0m\u001b[0;32m   1140\u001b[0m \u001b[1;33m\u001b[0m\u001b[0m\n\u001b[0;32m   1141\u001b[0m         \u001b[1;31m# May alter columns / col_dict\u001b[0m\u001b[1;33m\u001b[0m\u001b[1;33m\u001b[0m\u001b[1;33m\u001b[0m\u001b[0m\n",
      "\u001b[1;32mc:\\anaconda3\\envs\\tensorflow-gpu0\\lib\\site-packages\\pandas\\io\\parsers.py\u001b[0m in \u001b[0;36mread\u001b[1;34m(self, nrows)\u001b[0m\n\u001b[0;32m   1993\u001b[0m     \u001b[1;32mdef\u001b[0m \u001b[0mread\u001b[0m\u001b[1;33m(\u001b[0m\u001b[0mself\u001b[0m\u001b[1;33m,\u001b[0m \u001b[0mnrows\u001b[0m\u001b[1;33m=\u001b[0m\u001b[1;32mNone\u001b[0m\u001b[1;33m)\u001b[0m\u001b[1;33m:\u001b[0m\u001b[1;33m\u001b[0m\u001b[1;33m\u001b[0m\u001b[0m\n\u001b[0;32m   1994\u001b[0m         \u001b[1;32mtry\u001b[0m\u001b[1;33m:\u001b[0m\u001b[1;33m\u001b[0m\u001b[1;33m\u001b[0m\u001b[0m\n\u001b[1;32m-> 1995\u001b[1;33m             \u001b[0mdata\u001b[0m \u001b[1;33m=\u001b[0m \u001b[0mself\u001b[0m\u001b[1;33m.\u001b[0m\u001b[0m_reader\u001b[0m\u001b[1;33m.\u001b[0m\u001b[0mread\u001b[0m\u001b[1;33m(\u001b[0m\u001b[0mnrows\u001b[0m\u001b[1;33m)\u001b[0m\u001b[1;33m\u001b[0m\u001b[1;33m\u001b[0m\u001b[0m\n\u001b[0m\u001b[0;32m   1996\u001b[0m         \u001b[1;32mexcept\u001b[0m \u001b[0mStopIteration\u001b[0m\u001b[1;33m:\u001b[0m\u001b[1;33m\u001b[0m\u001b[1;33m\u001b[0m\u001b[0m\n\u001b[0;32m   1997\u001b[0m             \u001b[1;32mif\u001b[0m \u001b[0mself\u001b[0m\u001b[1;33m.\u001b[0m\u001b[0m_first_chunk\u001b[0m\u001b[1;33m:\u001b[0m\u001b[1;33m\u001b[0m\u001b[1;33m\u001b[0m\u001b[0m\n",
      "\u001b[1;32mpandas\\_libs\\parsers.pyx\u001b[0m in \u001b[0;36mpandas._libs.parsers.TextReader.read\u001b[1;34m()\u001b[0m\n",
      "\u001b[1;32mpandas\\_libs\\parsers.pyx\u001b[0m in \u001b[0;36mpandas._libs.parsers.TextReader._read_low_memory\u001b[1;34m()\u001b[0m\n",
      "\u001b[1;32mpandas\\_libs\\parsers.pyx\u001b[0m in \u001b[0;36mpandas._libs.parsers.TextReader._read_rows\u001b[1;34m()\u001b[0m\n",
      "\u001b[1;32mpandas\\_libs\\parsers.pyx\u001b[0m in \u001b[0;36mpandas._libs.parsers.TextReader._tokenize_rows\u001b[1;34m()\u001b[0m\n",
      "\u001b[1;32mpandas\\_libs\\parsers.pyx\u001b[0m in \u001b[0;36mpandas._libs.parsers.raise_parser_error\u001b[1;34m()\u001b[0m\n",
      "\u001b[1;31mParserError\u001b[0m: Error tokenizing data. C error: Expected 8 fields in line 508, saw 10\n"
     ]
    }
   ],
   "source": []
  },
  {
   "cell_type": "code",
   "execution_count": null,
   "metadata": {},
   "outputs": [],
   "source": []
  }
 ],
 "metadata": {
  "kernelspec": {
   "display_name": "Python 3",
   "language": "python",
   "name": "python3"
  },
  "language_info": {
   "codemirror_mode": {
    "name": "ipython",
    "version": 3
   },
   "file_extension": ".py",
   "mimetype": "text/x-python",
   "name": "python",
   "nbconvert_exporter": "python",
   "pygments_lexer": "ipython3",
   "version": "3.6.12"
  }
 },
 "nbformat": 4,
 "nbformat_minor": 4
}
